{
 "cells": [
  {
   "cell_type": "markdown",
   "metadata": {},
   "source": [
    "1. I Need Know All Events In CV2"
   ]
  },
  {
   "cell_type": "markdown",
   "metadata": {},
   "source": [
    "* **Return All Functions In OpenCv , But Must Start With `EVENT` Word**\n",
    "* **By Using --> `events = [i for i in dir(cv) if 'EVENT' in i]`**"
   ]
  },
  {
   "cell_type": "markdown",
   "metadata": {},
   "source": [
    "* ----------------`The All Events In Opencv`-----------------------------\n",
    "1. `['EVENT_FLAG_ALTKEY', 'EVENT_FLAG_CTRLKEY', 'EVENT_FLAG_LBUTTON', 'EVENT_FLAG_MBUTTON', 'EVENT_FLAG_RBUTTON'`,\n",
    "2. `'EVENT_FLAG_SHIFTKEY', 'EVENT_LBUTTONDBLCLK', 'EVENT_LBUTTONDOWN', 'EVENT_LBUTTONUP', 'EVENT_MBUTTONDBLCLK'`, \n",
    "3. `'EVENT_MBUTTONDOWN', 'EVENT_MBUTTONUP', 'EVENT_MOUSEHWHEEL', 'EVENT_MOUSEMOVE', 'EVENT_MOUSEWHEEL'`,\n",
    "4. `'EVENT_RBUTTONDBLCLK', 'EVENT_RBUTTONDOWN', 'EVENT_RBUTTONUP']`"
   ]
  },
  {
   "cell_type": "code",
   "execution_count": 7,
   "metadata": {},
   "outputs": [
    {
     "name": "stdout",
     "output_type": "stream",
     "text": [
      "The All Events Are :\n",
      "  ['EVENT_FLAG_ALTKEY', 'EVENT_FLAG_CTRLKEY', 'EVENT_FLAG_LBUTTON', 'EVENT_FLAG_MBUTTON', 'EVENT_FLAG_RBUTTON', 'EVENT_FLAG_SHIFTKEY', 'EVENT_LBUTTONDBLCLK', 'EVENT_LBUTTONDOWN', 'EVENT_LBUTTONUP', 'EVENT_MBUTTONDBLCLK', 'EVENT_MBUTTONDOWN', 'EVENT_MBUTTONUP', 'EVENT_MOUSEHWHEEL', 'EVENT_MOUSEMOVE', 'EVENT_MOUSEWHEEL', 'EVENT_RBUTTONDBLCLK', 'EVENT_RBUTTONDOWN', 'EVENT_RBUTTONUP']\n"
     ]
    }
   ],
   "source": [
    "import numpy as np \n",
    "import cv2 as cv  \n",
    "events = [i for i in dir(cv) if 'EVENT' in i]\n",
    "print('The All Events Are :\\n ',events)"
   ]
  },
  {
   "cell_type": "markdown",
   "metadata": {},
   "source": [
    "* To Make Resize Image Using --> `size = cv.resize(gray_img1,(400,300))`"
   ]
  },
  {
   "cell_type": "code",
   "execution_count": 9,
   "metadata": {},
   "outputs": [
    {
     "name": "stdout",
     "output_type": "stream",
     "text": [
      "439  ,  108\n",
      "163  ,  132\n",
      "160  ,  199\n",
      "262  ,  249\n",
      "389  ,  233\n",
      "156  ,  294\n",
      "243  ,  68\n",
      "73  ,  66\n",
      "92  ,  137\n",
      "95  ,  247\n",
      "109  ,  351\n",
      "63  ,  263\n",
      "42  ,  311\n",
      "16  ,  182\n",
      "77  ,  207\n"
     ]
    }
   ],
   "source": [
    "#Create Function Because Execution The Order \n",
    "def click_event(event,x,y,flags,param):\n",
    "    if event == cv.EVENT_LBUTTONDOWN:\n",
    "        print(x , ' , ' , y)\n",
    "        font = cv.FONT_HERSHEY_SIMPLEX\n",
    "        strXY = str(x) + ' , ' + str(y)\n",
    "        cv.putText(img,strXY,(x,y),font,0.5,(255,255,0),2)\n",
    "        cv.imshow('Image',img)\n",
    "    if event == cv.EVENT_RBUTTONDOWN:\n",
    "        blue  = img[y , x , 0]\n",
    "        green = img[y , x , 1]\n",
    "        red   = img[y , x , 2]\n",
    "        font = cv.FONT_HERSHEY_SIMPLEX \n",
    "        strBGR = str(blue) +  ' ,  ' + str(green) + ' , ' + str(red) \n",
    "        cv.putText(img , strBGR , (x,y) , font , 0.5 , (0 , 255 , 255) , 2 )\n",
    "        cv.imshow('Image', img)\n",
    "img = cv.imread('D:\\\\AI\\\\AI Models\\\\3. OpenCV\\\\0- OpenCV\\\\Data\\\\Images\\\\apple.jpg',1)\n",
    "cv.resize(img,(400,500))\n",
    "cv.imshow('Image', img)\n",
    "cv.setMouseCallback('Image' , click_event)\n",
    "cv.waitKey(0)\n",
    "cv.destroyAllWindows()"
   ]
  },
  {
   "cell_type": "code",
   "execution_count": null,
   "metadata": {},
   "outputs": [],
   "source": []
  }
 ],
 "metadata": {
  "kernelspec": {
   "display_name": "Python 3",
   "language": "python",
   "name": "python3"
  },
  "language_info": {
   "codemirror_mode": {
    "name": "ipython",
    "version": 3
   },
   "file_extension": ".py",
   "mimetype": "text/x-python",
   "name": "python",
   "nbconvert_exporter": "python",
   "pygments_lexer": "ipython3",
   "version": "3.10.0"
  },
  "orig_nbformat": 4
 },
 "nbformat": 4,
 "nbformat_minor": 2
}
