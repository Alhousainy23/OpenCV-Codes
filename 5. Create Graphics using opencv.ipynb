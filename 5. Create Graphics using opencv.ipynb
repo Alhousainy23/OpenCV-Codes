{
 "cells": [
  {
   "cell_type": "code",
   "execution_count": 1,
   "metadata": {},
   "outputs": [],
   "source": [
    "import numpy as np \n",
    "import cv2 as cv \n",
    "#Create Window \n",
    "img = np.zeros((600,900,3),dtype=np.uint8)\n",
    "#Create Background \n",
    "cv.rectangle(img,(0,0), (900,500), (255,255,85),-1)\n",
    "cv.rectangle(img,(0,500),(900,600),(75,180,70),-1)\n",
    "# Create Sun \n",
    "cv.circle(img,(200,150),60,(0,255,255),-1)\n",
    "cv.circle(img,(200,150),75,(220,255,255),10)\n",
    "# Create Stem Tree 1\n",
    "cv.line(img,(710,500),(710,430),(30,65,155),15)\n",
    "#Create Leafs for tree 1\n",
    "triangle = np.array([[640,460],[780,460],[710,200]])\n",
    "cv.fillPoly(img,[triangle],(75,180,70))\n",
    "#Create Stem Tree 2 \n",
    "cv.line(img,(600,500),(600,420),(30,65,155),25)\n",
    "#Create Leafs For tree 2 \n",
    "triangle1 = np.array([[500,440],[700,440],[600,75]],dtype=np.int32)\n",
    "cv.fillPoly(img,[triangle1],(75,200,70))\n",
    "#Create stem Tree 3 \n",
    "cv.line(img ,(400,500),(400,410),(30,65,155),17)\n",
    "#Create Leafs For Tree 3 \n",
    "triangle2 = np.array([[300,430],[500,430],[400,80]],dtype= np.int32)\n",
    "cv.fillPoly(img,[triangle2],(75,190,70))\n",
    "#---------------------------------------------------------------------------------------------\n",
    "#Create Text \n",
    "font = cv.FONT_HERSHEY_SCRIPT_SIMPLEX\n",
    "cv.putText(img,'I Love OpenCv',(70,480),font , 1 , (255,0,255),2)\n",
    "cv.imshow('Image',img)\n",
    "k = cv.waitKey(0)\n",
    "if k == 27 : cv.destroyAllWindows()"
   ]
  }
 ],
 "metadata": {
  "kernelspec": {
   "display_name": "Python 3",
   "language": "python",
   "name": "python3"
  },
  "language_info": {
   "codemirror_mode": {
    "name": "ipython",
    "version": 3
   },
   "file_extension": ".py",
   "mimetype": "text/x-python",
   "name": "python",
   "nbconvert_exporter": "python",
   "pygments_lexer": "ipython3",
   "version": "3.6.13"
  }
 },
 "nbformat": 4,
 "nbformat_minor": 4
}
