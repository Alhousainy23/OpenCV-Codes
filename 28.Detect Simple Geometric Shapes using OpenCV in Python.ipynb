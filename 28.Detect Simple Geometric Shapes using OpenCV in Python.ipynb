{
 "cells": [
  {
   "cell_type": "code",
   "execution_count": 1,
   "metadata": {},
   "outputs": [
    {
     "name": "stdout",
     "output_type": "stream",
     "text": [
      "[[[258 252]]\n",
      "\n",
      " [[309 341]]\n",
      "\n",
      " [[207 340]]]\n"
     ]
    }
   ],
   "source": [
    "import cv2 as cv \n",
    "import numpy as np \n",
    "import os \n",
    "os.chdir(R\"D:\\\\AI\\\\AI Models\\\\3. OpenCV\\\\0- OpenCV\\\\Data\\\\Images\")\n",
    "img = cv.imread('shappes.jpg')\n",
    "#Convert Photo from BGR To Gray \n",
    "imgGrey = cv.cvtColor(img,cv.COLOR_BGR2GRAY)\n",
    "#Apply Threshold because convert phot fom Grayscale to (black and white)\n",
    "_,thresh = cv.threshold(imgGrey,240,255,cv.THRESH_BINARY)\n",
    "#Applying Contours \n",
    "contours,_ = cv.findContours(thresh,cv.RETR_TREE,cv.CHAIN_APPROX_NONE)\n",
    "cv.imshow('Orignal Image',img)\n",
    "for contour in contours:\n",
    "    #get appromation for all contours and it's length also and multiply it with small value to modify \n",
    "    approx = cv.approxPolyDP(contour,0.01 * cv.arcLength(contour,True),True)\n",
    "    cv.drawContours(img,[approx],0,(0,0,0),5)\n",
    "    x = approx.ravel()[0]\n",
    "    y = approx.ravel()[1]-7\n",
    "    if len(approx) == 3 :\n",
    "        print (approx)\n",
    "        cv.putText(img,\"Triangle\",(x,y),cv.FONT_HERSHEY_COMPLEX,0.5,(0,0,0))\n",
    "    elif len (approx) ==4:\n",
    "        x1,y1,w,h = cv.boundingRect(approx)\n",
    "        aspectRatio = float(w)/h\n",
    "        if aspectRatio>= 0.95 and aspectRatio <=1.05:\n",
    "            cv.putText(img,'Sqaue',(x,y),cv.FONT_HERSHEY_COMPLEX,0.5,(0,0,0))\n",
    "        else : cv.putText(img,'Rectangle',(x,y),cv.FONT_HERSHEY_COMPLEX,0.5,(0,0,0))\n",
    "    elif len(approx)==5:cv.putText(img,'Pentagon',(x,y),cv.FONT_HERSHEY_COMPLEX,0.5,(0,0,0))\n",
    "    elif len(approx) ==10:cv.putText(img,\"Star\",(x,y),cv.FONT_HERSHEY_COMPLEX,0.5,(0,0,0))\n",
    "    else:cv.putText(img,\"Circle\",(x,y),cv.FONT_HERSHEY_COMPLEX,0.5,(0,0,0))\n",
    "cv.imshow('After_Apply_Contours',img)\n",
    "cv.waitKey(0)\n",
    "cv.destroyAllWindows()"
   ]
  },
  {
   "cell_type": "code",
   "execution_count": null,
   "metadata": {},
   "outputs": [],
   "source": []
  }
 ],
 "metadata": {
  "kernelspec": {
   "display_name": "dlib36",
   "language": "python",
   "name": "python3"
  },
  "language_info": {
   "codemirror_mode": {
    "name": "ipython",
    "version": 3
   },
   "file_extension": ".py",
   "mimetype": "text/x-python",
   "name": "python",
   "nbconvert_exporter": "python",
   "pygments_lexer": "ipython3",
   "version": "3.6.13"
  }
 },
 "nbformat": 4,
 "nbformat_minor": 2
}
