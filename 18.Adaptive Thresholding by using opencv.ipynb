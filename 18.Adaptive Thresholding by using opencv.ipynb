{
 "cells": [
  {
   "cell_type": "markdown",
   "metadata": {},
   "source": [
    "1. **Some Techniques Used To modify image such as smooth , remove noise , shrinking ... etc , but it image must be `binary Image`**\n",
    "2. **We Used Morphological Transformation because applying that**"
   ]
  },
  {
   "cell_type": "code",
   "execution_count": 1,
   "metadata": {},
   "outputs": [],
   "source": [
    "import cv2 as cv\n",
    "import numpy as np\n",
    "img = cv.imread('sudoku.png',0)\n",
    "_, th1 = cv.threshold(img, 127, 255, cv.THRESH_BINARY)\n",
    "th2 = cv.adaptiveThreshold(img, 255, cv.ADAPTIVE_THRESH_MEAN_C, cv.THRESH_BINARY, 11, 2);\n",
    "th3 = cv.adaptiveThreshold(img, 255, cv.ADAPTIVE_THRESH_GAUSSIAN_C, cv.THRESH_BINARY, 11, 2);\n",
    "cv.imshow(\"Image\", img)\n",
    "cv.imshow(\"THRESH_BINARY\", th1)\n",
    "cv.imshow(\"ADAPTIVE_THRESH_MEAN_C\", th2)\n",
    "cv.imshow(\"ADAPTIVE_THRESH_GAUSSIAN_C\", th3)\n",
    "cv.waitKey(0)\n",
    "cv.destroyAllWindows()#close window"
   ]
  }
 ],
 "metadata": {
  "kernelspec": {
   "display_name": "Python 3",
   "language": "python",
   "name": "python3"
  },
  "language_info": {
   "codemirror_mode": {
    "name": "ipython",
    "version": 3
   },
   "file_extension": ".py",
   "mimetype": "text/x-python",
   "name": "python",
   "nbconvert_exporter": "python",
   "pygments_lexer": "ipython3",
   "version": "3.6.13"
  }
 },
 "nbformat": 4,
 "nbformat_minor": 4
}
