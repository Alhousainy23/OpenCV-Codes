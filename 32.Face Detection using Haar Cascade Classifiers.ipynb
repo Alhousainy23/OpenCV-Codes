{
 "cells": [
  {
   "cell_type": "code",
   "execution_count": 2,
   "metadata": {},
   "outputs": [],
   "source": [
    "import cv2 as cv \n",
    "import numpy as np \n",
    "import matplotlib.pyplot as plt  \n",
    "import os \n",
    "plt.style.use('ggplot')\n",
    "os.chdir(R\"D:\\\\AI\\\\AI Models\\\\3. OpenCV\\\\0- OpenCV\\\\Data\\\\Face-Detection-using-Haar-Cascade-Classifiers--main\")\n",
    "face_cascade = cv.CascadeClassifier(\"haarcascade_frontalface_default.xml\")\n",
    "cap = cv.VideoCapture(0)\n",
    "while cap.isOpened():\n",
    "    _,img = cap.read()\n",
    "    gray = cv.cvtColor(img,cv.COLOR_BGR2GRAY)\n",
    "    faces = face_cascade.detectMultiScale(gray,1.1,4)\n",
    "    for(x,y,w,h) in faces: cv.rectangle(img,(x,y),(x+w,y+h),(255,0,0),3)\n",
    "    #Display the output\n",
    "    cv.imshow(\"Image\",img)\n",
    "    if cv.waitKey(1) == ord('q'):\n",
    "        cv.destroyAllWindows()\n",
    "        break \n",
    "cap.release()\n",
    "cv.destroyAllWindows()"
   ]
  },
  {
   "cell_type": "code",
   "execution_count": 3,
   "metadata": {},
   "outputs": [],
   "source": [
    "import cv2 as cv\n",
    "import os \n",
    "os.chdir(R\"D:\\\\AI\\\\AI Models\\\\3. OpenCV\\\\0- OpenCV\\\\Data\\\\Face-Detection-using-Haar-Cascade-Classifiers--main\")  \n",
    "face_cascade = cv.CascadeClassifier(\"haarcascade_frontalface_default.xml\")\n",
    "eye_cascade = cv.CascadeClassifier(\"haarcascade_eye.xml\")\n",
    "cap = cv.VideoCapture(0)\n",
    "while cap.isOpened():\n",
    "    _,img = cap.read()\n",
    "    gray = cv.cvtColor(img,cv.COLOR_BGR2GRAY)\n",
    "    faces = face_cascade.detectMultiScale(gray,1.1,4)\n",
    "    for (x,y,w,h) in faces : \n",
    "        cv.rectangle(img,(x,y),(x+w,y+h),(255,0,0),3)\n",
    "        cv.putText(img,\"Face\",(x,y-4),cv.FONT_HERSHEY_COMPLEX,1,(255,255,255),2)\n",
    "        eyes = eye_cascade.detectMultiScale(gray,2,3,4)\n",
    "        for (ex,ey,ew,eh) in eyes:\n",
    "            cv.rectangle(img,(ex,ey),(ex+ew,ey+eh),(0,255,0),5)\n",
    "            cv.putText(img,\"Eye\",(ex,ey-3),cv.FONT_HERSHEY_COMPLEX,0.8,(255,255,255),2)\n",
    "    #Display The Output \n",
    "    cv.imshow('Img',img)\n",
    "    if cv.waitKey(1) == ord('q'):\n",
    "        cv.destroyAllWindows()\n",
    "        break \n",
    "cap.release()\n",
    "cv.destroyAllWindows()"
   ]
  },
  {
   "cell_type": "markdown",
   "metadata": {},
   "source": [
    "* Used `ROI` --> `Region Of Interest` "
   ]
  },
  {
   "cell_type": "code",
   "execution_count": 4,
   "metadata": {},
   "outputs": [],
   "source": [
    "import cv2 as cv\n",
    "import os \n",
    "os.chdir(R\"D:\\\\AI\\\\AI Models\\\\3. OpenCV\\\\0- OpenCV\\\\Data\\\\Face-Detection-using-Haar-Cascade-Classifiers--main\")  \n",
    "face_cascade = cv.CascadeClassifier(\"haarcascade_frontalface_default.xml\")\n",
    "eye_cascade = cv.CascadeClassifier(\"haarcascade_eye.xml\")\n",
    "cap = cv.VideoCapture(0)\n",
    "while cap.isOpened():\n",
    "    _,img = cap.read()\n",
    "    gray = cv.cvtColor(img,cv.COLOR_BGR2GRAY)\n",
    "    faces = face_cascade.detectMultiScale(gray,1.1,4)\n",
    "    for (x,y,w,h) in faces : \n",
    "        cv.rectangle(img,(x,y),(x+w,y+h),(255,0,0),3)\n",
    "        cv.putText(img,\"Face\",(x,y-4),cv.FONT_HERSHEY_COMPLEX,1,(255,255,255),2)\n",
    "        roi_gray = gray[y:y+h,x:x+w]\n",
    "        roi_color = img[y:y+h,x:x+w]\n",
    "        eyes = eye_cascade.detectMultiScale(roi_gray,2,3,4)\n",
    "        for (ex,ey,ew,eh) in eyes:\n",
    "            cv.rectangle(roi_color,(ex,ey),(ex+ew,ey+eh),(0,255,0),5)\n",
    "            cv.putText(img,\"Eye\",(ex,ey-3),cv.FONT_HERSHEY_COMPLEX,0.8,(255,255,255),2)\n",
    "    #Display The Output \n",
    "    cv.imshow('Img',img)\n",
    "    if cv.waitKey(1) == ord('q'): \n",
    "        cv.destroyAllWindows()\n",
    "        break \n",
    "cap.release()\n",
    "cv.destroyAllWindows()"
   ]
  },
  {
   "cell_type": "code",
   "execution_count": null,
   "metadata": {},
   "outputs": [],
   "source": []
  }
 ],
 "metadata": {
  "kernelspec": {
   "display_name": "dlib36",
   "language": "python",
   "name": "python3"
  },
  "language_info": {
   "codemirror_mode": {
    "name": "ipython",
    "version": 3
   },
   "file_extension": ".py",
   "mimetype": "text/x-python",
   "name": "python",
   "nbconvert_exporter": "python",
   "pygments_lexer": "ipython3",
   "version": "3.6.13"
  }
 },
 "nbformat": 4,
 "nbformat_minor": 2
}
