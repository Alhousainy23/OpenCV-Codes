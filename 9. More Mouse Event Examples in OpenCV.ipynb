{
 "cells": [
  {
   "cell_type": "markdown",
   "metadata": {},
   "source": [
    "1. I Need Know All Events In CV2"
   ]
  },
  {
   "cell_type": "markdown",
   "metadata": {},
   "source": [
    "* **Return All Functions In OpenCv , But Must Start With `EVENT` Word**\n",
    "* **By Using --> `events = [i for i in dir(cv) if 'EVENT' in i]`**"
   ]
  },
  {
   "cell_type": "markdown",
   "metadata": {},
   "source": [
    "* ----------------`The All Events In Opencv`-----------------------------\n",
    "1. `['EVENT_FLAG_ALTKEY', 'EVENT_FLAG_CTRLKEY', 'EVENT_FLAG_LBUTTON', 'EVENT_FLAG_MBUTTON', 'EVENT_FLAG_RBUTTON'`,\n",
    "2. `'EVENT_FLAG_SHIFTKEY', 'EVENT_LBUTTONDBLCLK', 'EVENT_LBUTTONDOWN', 'EVENT_LBUTTONUP', 'EVENT_MBUTTONDBLCLK'`, \n",
    "3. `'EVENT_MBUTTONDOWN', 'EVENT_MBUTTONUP', 'EVENT_MOUSEHWHEEL', 'EVENT_MOUSEMOVE', 'EVENT_MOUSEWHEEL'`,\n",
    "4. `'EVENT_RBUTTONDBLCLK', 'EVENT_RBUTTONDOWN', 'EVENT_RBUTTONUP']`"
   ]
  },
  {
   "cell_type": "code",
   "execution_count": 1,
   "metadata": {},
   "outputs": [
    {
     "name": "stdout",
     "output_type": "stream",
     "text": [
      "The All Events Are :\n",
      "  ['EVENT_FLAG_ALTKEY', 'EVENT_FLAG_CTRLKEY', 'EVENT_FLAG_LBUTTON', 'EVENT_FLAG_MBUTTON', 'EVENT_FLAG_RBUTTON', 'EVENT_FLAG_SHIFTKEY', 'EVENT_LBUTTONDBLCLK', 'EVENT_LBUTTONDOWN', 'EVENT_LBUTTONUP', 'EVENT_MBUTTONDBLCLK', 'EVENT_MBUTTONDOWN', 'EVENT_MBUTTONUP', 'EVENT_MOUSEHWHEEL', 'EVENT_MOUSEMOVE', 'EVENT_MOUSEWHEEL', 'EVENT_RBUTTONDBLCLK', 'EVENT_RBUTTONDOWN', 'EVENT_RBUTTONUP']\n"
     ]
    }
   ],
   "source": [
    "import numpy as np \n",
    "import cv2 as cv \n",
    "events = [i for i in dir(cv) if 'EVENT' in i]\n",
    "print('The All Events Are :\\n ',events)"
   ]
  },
  {
   "cell_type": "code",
   "execution_count": 2,
   "metadata": {},
   "outputs": [],
   "source": [
    "#Create Function \n",
    "def click_mouse(event,x,y,flags,parms):\n",
    "    if event == cv.EVENT_LBUTTONDOWN:\n",
    "        cv.circle(img, (x,y),15,(255,0,0),-1)\n",
    "        points.append((x,y))\n",
    "        if len(points)>=2:\n",
    "            cv.line(img,points[-1],points[-2],(0,255,255))\n",
    "        cv.imshow('Image',img)\n",
    "#Create Image \n",
    "img = np.zeros((512,512,3),dtype=np.uint8)\n",
    "cv.imshow('Image',img)\n",
    "points =[]\n",
    "cv.setMouseCallback('Image',click_mouse)\n",
    "cv.waitKey(0)\n",
    "cv.destroyAllWindows()"
   ]
  },
  {
   "cell_type": "markdown",
   "metadata": {},
   "source": [
    "* **More Mouse Event Examples in OpenCV Python 3**"
   ]
  },
  {
   "cell_type": "code",
   "execution_count": 3,
   "metadata": {},
   "outputs": [],
   "source": [
    "def click_event(event , x,y , flags , parm):\n",
    "    if event == cv.EVENT_LBUTTONDOWN :\n",
    "        blue  = img1[y , x , 0]\n",
    "        green = img1[y , x , 1]\n",
    "        red   = img1[y , x , 2]\n",
    "        mycolorimg = np.zeros((512,512,3),dtype=np.uint8)\n",
    "        mycolorimg[:] = [blue ,green , red]\n",
    "        cv.imshow('Color',mycolorimg)\n",
    "img1= cv.imread('D:\\\\AI\\\\AI Models\\\\3. OpenCV\\\\0- OpenCV\\\\Data\\\\Images\\\\apple.jpg',1)\n",
    "cv.resize(img1,(400,200))\n",
    "cv.imshow('Image',img1)\n",
    "cv.setMouseCallback('Image',click_event)\n",
    "cv.waitKey(0)\n",
    "cv.destroyAllWindows()"
   ]
  },
  {
   "cell_type": "code",
   "execution_count": null,
   "metadata": {},
   "outputs": [],
   "source": []
  }
 ],
 "metadata": {
  "kernelspec": {
   "display_name": "Python 3",
   "language": "python",
   "name": "python3"
  },
  "language_info": {
   "codemirror_mode": {
    "name": "ipython",
    "version": 3
   },
   "file_extension": ".py",
   "mimetype": "text/x-python",
   "name": "python",
   "nbconvert_exporter": "python",
   "pygments_lexer": "ipython3",
   "version": "3.10.0"
  },
  "orig_nbformat": 4
 },
 "nbformat": 4,
 "nbformat_minor": 2
}
