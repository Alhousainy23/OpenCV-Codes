{
 "cells": [
  {
   "cell_type": "markdown",
   "metadata": {},
   "source": [
    "* `HSV` --> هي من أفضل الادوات التي يتم استخدامها \n",
    "* `HSV` --> (`H --> Hue` , `S --> Saturation` , `V --> Value`) ,  `HSV` --> Used in object detection\n",
    "* `Hue` --> هي المنطقة المعينة التي سوف يتم تحديدها ، او المنطقة اللي مهتم بيها \n",
    "* `Saturation` --> درجة التشبع بتاعت اللون وتبدا من صفر \n",
    "* `Value` --> Birhtness dergree\n",
    "* `HSV` -->Each part contain 2 values such that --> `Hue` , `Saturation` , `Value` --> `Lower` value & `Upper` value "
   ]
  },
  {
   "cell_type": "markdown",
   "metadata": {},
   "source": [
    "* `Mask` --> هعمل الماسك بتاعي ، والماسك بيكون عبارة عن صورة ابيض واسود \n",
    "* `Mask` --> To Create mask using `(cv.inRange)` to detect the special color "
   ]
  },
  {
   "cell_type": "markdown",
   "metadata": {},
   "source": [
    "* عشان أطلع النتيجة بتاعتي هيتم استخدام هذه الطريقة --> `cv.bitwise_and`\n",
    "* `bitwise_and` --> بتاخد مني صورتين وهم الصورة الاولي + الصورة الثانية + المساك بتاعي "
   ]
  },
  {
   "cell_type": "code",
   "execution_count": 1,
   "metadata": {},
   "outputs": [],
   "source": [
    "import numpy as np \n",
    "import os \n",
    "import cv2 as cv\n",
    "os.chdir(R'D:\\\\AI\\\\AI Models\\\\3. OpenCV\\\\0- OpenCV\\\\Data\\\\Images')\n",
    "while (True):\n",
    "    frame = cv.imread('smarties.png')\n",
    "    hsv = cv.cvtColor(frame,cv.COLOR_BGR2HSV)\n",
    "    lower_blue = np.array([110,50,50]) # Hue --> 110   , S --> 50   , V --> 50 \n",
    "    upper_blue = np.array([130,255,255])# Hue --> 130   ,S --> 255   ,V --> 255\n",
    "    mask = cv.inRange(hsv,lower_blue , upper_blue) # Threshold the HSV image to get \n",
    "    res = cv.bitwise_and(frame,frame,mask = mask )\n",
    "    cv.imshow('Detectin the blue image' , frame)\n",
    "    cv.imshow('Mask' , mask)\n",
    "    cv.imshow('Result' , res) \n",
    "    k = cv.waitKey(0)\n",
    "    if k == 27 : break \n",
    "cv.destroyAllWindows()"
   ]
  },
  {
   "cell_type": "markdown",
   "metadata": {},
   "source": [
    "* Trackbar --> هو عبارة عن شريط يقوم بتوضيح اللالوان والتحكم فيها ، والقيام بعملية تغير لها\n",
    "* هنقوم بإنشاء 4 من TrackBar \n",
    "* Trackbar --> (B ,G ,R , Switch)\n",
    "* `Trackbar` --> Take Four Arguments \n",
    "* **`trackbarname` , `windowname` , `value` , `count`,  `Onchange`**\n",
    "* cv.createTrackbar('B','Image' , `Value` 0 , `Count` 255) \n",
    "  * رقمين 0 و 255 معنهاهم انه هيبدا من 0 لحد 255 \n",
    "* `Switch Trackbar in code` --> 0 `OFF` & 1 `ON`\n",
    "* `Trackbarpos` --> بترجع لي او بتجيب لي القيمة بتاعت اللون او الرقم اللي واقف عليه دلوقتي "
   ]
  },
  {
   "cell_type": "code",
   "execution_count": 2,
   "metadata": {},
   "outputs": [],
   "source": [
    "import numpy as np \n",
    "import cv2 as cv \n",
    "def nothing (x): pass\n",
    "cv.namedWindow('Tracking')\n",
    "cv.createTrackbar('LH','Tracking',0,255,nothing)#Lower Hue\n",
    "cv.createTrackbar('LS','Tracking',0,255,nothing)#Lower Saturation\n",
    "cv.createTrackbar('LV','Tracking',0,255,nothing)#Lower Value\n",
    "cv.createTrackbar('UH','Tracking',255,255,nothing)#Upper Hue\n",
    "cv.createTrackbar('US','Tracking',255,255,nothing)#Upper Saturation\n",
    "cv.createTrackbar('UV','Tracking',255,255,nothing)#Upper Value\n",
    "while True:\n",
    "    frame1 = cv.imread('smarties.png')\n",
    "    hsv1   = cv.cvtColor(frame,cv.COLOR_BGR2HSV)\n",
    "    lower_hue = cv.getTrackbarPos('LH','Tracking')\n",
    "    lower_sat = cv.getTrackbarPos('LS','Tracking')\n",
    "    lower_val = cv.getTrackbarPos('LV','Tracking')\n",
    "    upper_hue = cv.getTrackbarPos('UH','Tracking')\n",
    "    upper_sat = cv.getTrackbarPos('US','Tracking')\n",
    "    upper_val = cv.getTrackbarPos('UV','Tracking')\n",
    "    Lower_blue = np.array([lower_hue,lower_sat,lower_val])\n",
    "    Upper_blue = np.array([upper_hue,upper_sat,upper_val])\n",
    "    mask1 = cv.inRange(hsv1,Lower_blue,Upper_blue)\n",
    "    res1  = cv.bitwise_and(frame1,frame1,mask = mask1)\n",
    "    cv.imshow('frame' ,frame1)\n",
    "    cv.imshow('mask',mask1)\n",
    "    cv.imshow('result',res1)\n",
    "    k = cv.waitKey(1)\n",
    "    if k == 27 : break \n",
    "cv.destroyAllWindows()"
   ]
  },
  {
   "cell_type": "markdown",
   "metadata": {},
   "source": [
    "# Video Capturing "
   ]
  },
  {
   "cell_type": "markdown",
   "metadata": {},
   "source": [
    "cap.read --> (`read`) --> بترجع لي قيميتين وهم اول حاجة وهي العلامة دي _ لو هي صح يبقي انا الكاميرا بتاعتي بتسجل ، لو خطا يبقي في مشكلة في الكاميرا بتاعتي\n",
    "* `frame` --> هي الفيديو الذي سوف تقوم بتسجيله الكاميرا "
   ]
  },
  {
   "cell_type": "code",
   "execution_count": 4,
   "metadata": {},
   "outputs": [],
   "source": [
    "import numpy as np \n",
    "import cv2 as cv \n",
    "def nothing(x):pass \n",
    "capture = cv.VideoCapture(0);\n",
    "cv.namedWindow('Tracking')\n",
    "cv.createTrackbar('LH','Tracking',0,255,nothing)#Lower Hue\n",
    "cv.createTrackbar('LS','Tracking',0,255,nothing)#Lower Saturation\n",
    "cv.createTrackbar('LV','Tracking',0,255,nothing)#Lower Value\n",
    "cv.createTrackbar('UH','Tracking',255,255,nothing)#Upper Hue\n",
    "cv.createTrackbar('US','Tracking',255,255,nothing)#Upper Saturation\n",
    "cv.createTrackbar('UV','Tracking',255,255,nothing)#Upper Value\n",
    "while True : \n",
    "    _,frame = capture.read()\n",
    "    hsv = cv.cvtColor(frame,cv.COLOR_BGR2HSV)\n",
    "    lower_hue = cv.getTrackbarPos('LH','Tracking')\n",
    "    lower_sat = cv.getTrackbarPos('LS','Tracking')\n",
    "    lower_val = cv.getTrackbarPos('LV','Tracking')\n",
    "    upper_hue = cv.getTrackbarPos('UH','Tracking')\n",
    "    upper_sat = cv.getTrackbarPos('US','Tracking')\n",
    "    upper_val = cv.getTrackbarPos('UV','Tracking')\n",
    "    Lower_blue = np.array([lower_hue,lower_sat,lower_val])\n",
    "    Upper_blue = np.array([upper_hue,upper_sat,upper_val])\n",
    "    mask = cv.inRange(hsv,Lower_blue,Upper_blue)\n",
    "    res  = cv.bitwise_and(frame,frame,mask = mask)\n",
    "    cv.imshow('frame' ,frame)\n",
    "    cv.imshow('mask',mask)\n",
    "    cv.imshow('result',res)\n",
    "    k = cv.waitKey(1)\n",
    "    if k == 27 : break \n",
    "capture.release()\n",
    "cv.destroyAllWindows()"
   ]
  },
  {
   "cell_type": "code",
   "execution_count": null,
   "metadata": {},
   "outputs": [],
   "source": []
  }
 ],
 "metadata": {
  "kernelspec": {
   "display_name": "Python 3",
   "language": "python",
   "name": "python3"
  },
  "language_info": {
   "codemirror_mode": {
    "name": "ipython",
    "version": 3
   },
   "file_extension": ".py",
   "mimetype": "text/x-python",
   "name": "python",
   "nbconvert_exporter": "python",
   "pygments_lexer": "ipython3",
   "version": "3.10.0"
  },
  "orig_nbformat": 4
 },
 "nbformat": 4,
 "nbformat_minor": 2
}
