{
 "cells": [
  {
   "cell_type": "markdown",
   "metadata": {},
   "source": [
    "* The Default Window For Laptop Camera \n",
    "1. The `Width` Is --> `1280`\n",
    "2. The `Height` Is --> `720`"
   ]
  },
  {
   "cell_type": "code",
   "execution_count": 1,
   "metadata": {},
   "outputs": [
    {
     "name": "stdout",
     "output_type": "stream",
     "text": [
      "The Default Width Is -->  640.0\n",
      "The Default Height Is -->  480.0\n"
     ]
    }
   ],
   "source": [
    "import numpy as np \n",
    "import cv2 as cv \n",
    "cap = cv.VideoCapture(0)\n",
    "print('The Default Width Is --> ',cap.get(cv.CAP_PROP_FRAME_WIDTH))\n",
    "print('The Default Height Is --> ',cap.get(cv.CAP_PROP_FRAME_HEIGHT))\n",
    "#To Detect The Width & Height Manual Use set \n",
    "#cap.set(3,3000)\n",
    "#cap.set(4,3000)\n",
    "#print('The Cap Get 3 Is --> ',cap.get(3))\n",
    "#print('The Cap Get 4 Is --> ',cap.get(4))\n",
    "while (cap.isOpened()):\n",
    "    ret ,frame = cap.read()\n",
    "    if ret == True:\n",
    "        gray = cv.cvtColor(frame,cv.COLOR_BGR2GRAY)\n",
    "        cv.imshow('Frame' , gray)\n",
    "        if cv.waitKey(1) & 0xFF == ord('q'):break\n",
    "    else : break \n",
    "cap.release()\n",
    "cv.destroyAllWindows()"
   ]
  },
  {
   "cell_type": "code",
   "execution_count": 2,
   "metadata": {},
   "outputs": [
    {
     "name": "stdout",
     "output_type": "stream",
     "text": [
      "The Default Width Is -->  640.0\n",
      "The Default Height Is -->  480.0\n",
      "The Cap Get 3 Is -->  1280.0\n",
      "The Cap Get 4 Is -->  720.0\n"
     ]
    }
   ],
   "source": [
    "import numpy as np \n",
    "import cv2 as cv \n",
    "cap = cv.VideoCapture(0)\n",
    "print('The Default Width Is --> ',cap.get(cv.CAP_PROP_FRAME_WIDTH))\n",
    "print('The Default Height Is --> ',cap.get(cv.CAP_PROP_FRAME_HEIGHT))\n",
    "#To Detect The Width & Height Manual Use set \n",
    "cap.set(3,3000)\n",
    "cap.set(4,3000)\n",
    "print('The Cap Get 3 Is --> ',cap.get(3))\n",
    "print('The Cap Get 4 Is --> ',cap.get(4))\n",
    "while (cap.isOpened()):\n",
    "    ret ,frame = cap.read()\n",
    "    if ret == True:\n",
    "        gray = cv.cvtColor(frame,cv.COLOR_BGR2GRAY)\n",
    "        cv.imshow('Frame' , gray)\n",
    "        if cv.waitKey(1) & 0xFF == ord('q'):break\n",
    "    else : break \n",
    "cap.release()\n",
    "cv.destroyAllWindows()"
   ]
  }
 ],
 "metadata": {
  "kernelspec": {
   "display_name": "Python 3",
   "language": "python",
   "name": "python3"
  },
  "language_info": {
   "codemirror_mode": {
    "name": "ipython",
    "version": 3
   },
   "file_extension": ".py",
   "mimetype": "text/x-python",
   "name": "python",
   "nbconvert_exporter": "python",
   "pygments_lexer": "ipython3",
   "version": "3.10.0"
  },
  "orig_nbformat": 4
 },
 "nbformat": 4,
 "nbformat_minor": 2
}
