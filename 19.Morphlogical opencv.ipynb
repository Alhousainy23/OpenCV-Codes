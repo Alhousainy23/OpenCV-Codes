{
 "cells": [
  {
   "cell_type": "markdown",
   "id": "c79c44ac-db53-4e29-8b4f-c6e6ab74ec64",
   "metadata": {},
   "source": [
    "# Morphological Transformation by using OpenCv\n",
    "* **Are some simple operations based on the images shapes, and normally performed on the binary images**"
   ]
  },
  {
   "cell_type": "markdown",
   "id": "6df04ef1-eb82-42e7-8dae-196ec5fd90ea",
   "metadata": {},
   "source": [
    "* **Morphological Transformation running on images (\"binary images\") --> making masked on images**"
   ]
  },
  {
   "cell_type": "code",
   "execution_count": 1,
   "id": "4b535bdf-6b2d-4eba-b2f2-97866073f9db",
   "metadata": {},
   "outputs": [],
   "source": [
    "import cv2 as cv \n",
    "import numpy as np \n",
    "from matplotlib import pyplot as plt \n",
    "import os \n",
    "os.chdir(R\"C:\\\\Users\\\\Alhou\\\\3. OpenCV\\\\0- OpenCV\\\\Data\\\\Images\")\n",
    "img = cv.imread(\"smarties.png\",0)\n",
    "#Applying Mask for image \n",
    "_,mask = cv.threshold(img,220,255,cv.THRESH_BINARY_INV)\n",
    "cv.imshow('Gray Image',img)\n",
    "cv.imshow('mask',mask)\n",
    "cv.waitKey(0)\n",
    "cv.destroyAllWindows()"
   ]
  },
  {
   "cell_type": "markdown",
   "id": "d4df61f1-af76-4471-8010-76b60769ad74",
   "metadata": {},
   "source": [
    "* Applying dilation and erosion"
   ]
  },
  {
   "cell_type": "markdown",
   "id": "317ae1e7-ae62-48c3-a0f0-7d8a366ed989",
   "metadata": {},
   "source": [
    "* Iterations ==> معناها ان هيتم تطبيق الفلتر بتاعنا الذي هو (5،5) مرتين فقط \n",
    "* Default ==> Number of iterations for mask = 1 iteration"
   ]
  },
  {
   "cell_type": "code",
   "execution_count": 2,
   "id": "24ae6ade-5d8d-426a-864d-3fbdcb931e03",
   "metadata": {},
   "outputs": [],
   "source": [
    "kernel = np.ones((5,5),np.uint8)#Structure element (Filter)\n",
    "dilation = cv.dilate(mask,kernel,iterations=2)#good dilate but incease the ball size because if any pixels under the kernel  \n",
    "erosion  = cv.erode(mask,kernel,iterations=2)#Erosion it erode the balls because if all pixels under the kernel not one it eroded\n",
    "cv.imshow('Gray Image',img)\n",
    "cv.imshow('Mask',mask)\n",
    "cv.imshow('After Dilation',dilation)\n",
    "cv.imshow('After Erosion',erosion)\n",
    "cv.waitKey(0)\n",
    "cv.destroyAllWindows()"
   ]
  },
  {
   "cell_type": "markdown",
   "id": "59cb1657-7e9c-4ee6-9e65-f426af4a8042",
   "metadata": {},
   "source": [
    "* **Applying Opening and closing**\n",
    "1. Opening --> Applying erosion (Then) + Dilation \n",
    "2. Closing --> Applying Dilation(Then) + Erosion"
   ]
  },
  {
   "cell_type": "code",
   "execution_count": 3,
   "id": "ffcf97fe-e44a-412d-be96-fcfaad9ca160",
   "metadata": {},
   "outputs": [],
   "source": [
    "opening = cv.morphologyEx(mask,cv.MORPH_OPEN,kernel,iterations=1)\n",
    "closing = cv.morphologyEx(mask,cv.MORPH_CLOSE,kernel,iterations=1)\n",
    "cv.imshow('Gray Image',img)\n",
    "cv.imshow('Mask Image',mask)\n",
    "cv.imshow('After Opening',opening)\n",
    "cv.imshow('After Closing',closing)\n",
    "cv.waitKey(0)\n",
    "cv.destroyAllWindows()"
   ]
  }
 ],
 "metadata": {
  "kernelspec": {
   "display_name": "Python 3",
   "language": "python",
   "name": "python3"
  },
  "language_info": {
   "codemirror_mode": {
    "name": "ipython",
    "version": 3
   },
   "file_extension": ".py",
   "mimetype": "text/x-python",
   "name": "python",
   "nbconvert_exporter": "python",
   "pygments_lexer": "ipython3",
   "version": "0.0.0"
  }
 },
 "nbformat": 4,
 "nbformat_minor": 5
}
