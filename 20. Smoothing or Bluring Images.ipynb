{
 "cells": [
  {
   "cell_type": "markdown",
   "id": "ec600eef-3619-4d52-8a27-068a7886ebb9",
   "metadata": {},
   "source": [
    "# Smmothing Or Bluring Images\n",
    "* are used to remove the noise from the images and it use diverse linear filter because linear filter easy to achieve and relatively fast"
   ]
  },
  {
   "cell_type": "markdown",
   "id": "2956337a-ef43-43e3-bab1-eaad69079505",
   "metadata": {},
   "source": [
    "# Types Of Smoothing \n",
    "1. Blur (Averaging)\n",
    "2. Gaussian Filter \n",
    "3. Median Filter \n",
    "4. Bilateral Filter \n",
    "\n",
    "* **Averaging Matrix ==> K = 1 /(Number Of Hight / # Of Width)**\n",
    "* K = 1/9*[1 1 1]\n",
    "             [1 1 1]\n",
    "             [1 1 1]]"
   ]
  },
  {
   "cell_type": "markdown",
   "id": "b3f61453-79f5-43aa-9af1-0a8b75152e59",
   "metadata": {},
   "source": [
    "# Note \n",
    "* When increase filter size this increase the possbility of the image becoming blur \n",
    "* Example When increase average from (5,5) To --> (11,11) ==> Image become Blur Image\n"
   ]
  },
  {
   "cell_type": "code",
   "execution_count": 1,
   "id": "e67f2871-3a3c-474f-a526-f175d803290d",
   "metadata": {},
   "outputs": [],
   "source": [
    "import cv2 as cv\n",
    "import matplotlib.pyplot as plt \n",
    "import numpy as np \n",
    "import os \n",
    "os.chdir(R\"C:\\\\Users\\\\Alhou\\\\3. OpenCV\\\\0- OpenCV\\\\Data\\\\Images\")\n",
    "#Convert Early Image For BGR To GrayScale\n",
    "img = cv.imread('early_18000.jpg')\n",
    "average = cv.blur(img,(5,5)) # Mean of pixels\n",
    "img = cv.resize(img,(500,300))\n",
    "avg =cv.resize(average,(500,300))\n",
    "#Images \n",
    "cv.imshow('Original Image',img)\n",
    "cv.imshow('Averaging Image',avg)\n",
    "cv.waitKey(0)\n",
    "cv.destroyAllWindows()"
   ]
  },
  {
   "cell_type": "markdown",
   "id": "802ad8a5-1473-4456-9f4d-27a93c9fdd25",
   "metadata": {},
   "source": [
    "* Applying Gaussian Filter \n",
    "\n",
    "* k = 1/273 * \n",
    "          [1 4 7 4 1]\n",
    "          [4 16 26 16 4]\n",
    "          [7 26 '41' 26 7]\n",
    "          [4 16 26 16 4]\n",
    "          [1 4 7 4 1]\n",
    "          "
   ]
  },
  {
   "cell_type": "code",
   "execution_count": 4,
   "id": "0a265d66-9ef4-48f4-bc64-541ecaff7780",
   "metadata": {},
   "outputs": [],
   "source": [
    "#Read Same Image \n",
    "gblur = cv.GaussianBlur(img,(5,5),0)\n",
    "#Show Images \n",
    "gblur = cv.resize((gblur),(500,300))\n",
    "cv.imshow('Original Image',img)\n",
    "cv.imshow('Average Image',avg)\n",
    "cv.imshow('Gaussian Image',gblur)\n",
    "cv.waitKey(0)\n",
    "cv.destroyAllWindows()"
   ]
  },
  {
   "cell_type": "markdown",
   "id": "1214cdfd-0564-407f-be47-b68709967d24",
   "metadata": {},
   "source": [
    "# Median Smoothing \n",
    "* Median Using in --> Salt and paper imaage"
   ]
  },
  {
   "cell_type": "code",
   "execution_count": 3,
   "id": "e54a4045-d245-4476-a4ac-241c3799228e",
   "metadata": {},
   "outputs": [],
   "source": [
    "img1 = cv.imread('lena.jpg')\n",
    "bilteral = cv.bilateralFilter(img1,9,75,75)\n",
    "median = cv.medianBlur(img1,5)\n",
    "cv.imshow('Orignal Image',img1)\n",
    "cv.imshow('Bilteral Filter' , bilteral)\n",
    "cv.imshow('Median Image',median)\n",
    "cv.waitKey(0)\n",
    "cv.destroyAllWindows()"
   ]
  }
 ],
 "metadata": {
  "kernelspec": {
   "display_name": "Python 3",
   "language": "python",
   "name": "python3"
  },
  "language_info": {
   "codemirror_mode": {
    "name": "ipython",
    "version": 3
   },
   "file_extension": ".py",
   "mimetype": "text/x-python",
   "name": "python",
   "nbconvert_exporter": "python",
   "pygments_lexer": "ipython3",
   "version": "3.6.13"
  }
 },
 "nbformat": 4,
 "nbformat_minor": 5
}
