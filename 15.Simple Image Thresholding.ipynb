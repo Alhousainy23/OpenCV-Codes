{
 "cells": [
  {
   "cell_type": "code",
   "execution_count": 1,
   "metadata": {},
   "outputs": [],
   "source": [
    "import numpy as np \n",
    "import cv2 as cv \n",
    "import os \n",
    "os.chdir(R\"D:\\\\AI\\\\AI Models\\\\3. OpenCV\\\\0- OpenCV\\\\Data\\\\Images\")"
   ]
  },
  {
   "cell_type": "code",
   "execution_count": 2,
   "metadata": {},
   "outputs": [],
   "source": [
    "img = cv.imread('gradient.png',0)\n",
    "#Apply Many Types Of Thresholds\n",
    "_,th1 = cv.threshold(img,55,255,cv.THRESH_BINARY)\n",
    "ret2,th2 = cv.threshold(img,200,255,cv.THRESH_BINARY_INV)\n",
    "ret3,th3 = cv.threshold(img,127,255,cv.THRESH_TRUNC)\n",
    "_,th4 = cv.threshold(img,127,255,cv.THRESH_TOZERO)\n",
    "_,th5 = cv.threshold(img,127,255,cv.THRESH_TOZERO_INV)\n",
    "#Display Image \n",
    "cv.imshow('Original Image', img)\n",
    "cv.imshow('Thresh1 ',th1)\n",
    "cv.imshow('Thresh2',th2)\n",
    "cv.imshow('Thresh3',th3)\n",
    "cv.imshow('Thresh4',th4)\n",
    "cv.imshow('Thresh5',th5)\n",
    "#img1 = cv.resize(img1,(300,300))\n",
    "k = cv.waitKey(0)\n",
    "if k == 27 : cv.destroyAllWindows()"
   ]
  },
  {
   "cell_type": "code",
   "execution_count": null,
   "metadata": {},
   "outputs": [],
   "source": []
  }
 ],
 "metadata": {
  "kernelspec": {
   "display_name": "Python 3",
   "language": "python",
   "name": "python3"
  },
  "language_info": {
   "codemirror_mode": {
    "name": "ipython",
    "version": 3
   },
   "file_extension": ".py",
   "mimetype": "text/x-python",
   "name": "python",
   "nbconvert_exporter": "python",
   "pygments_lexer": "ipython3",
   "version": "3.10.0"
  },
  "orig_nbformat": 4
 },
 "nbformat": 4,
 "nbformat_minor": 2
}
