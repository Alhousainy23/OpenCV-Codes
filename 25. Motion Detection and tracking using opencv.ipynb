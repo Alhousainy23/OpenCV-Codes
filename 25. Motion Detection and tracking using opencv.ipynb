{
 "cells": [
  {
   "cell_type": "code",
   "execution_count": 1,
   "metadata": {},
   "outputs": [
    {
     "name": "stdout",
     "output_type": "stream",
     "text": [
      "(576, 768, 3)\n"
     ]
    }
   ],
   "source": [
    "import cv2 as cv \n",
    "import numpy as np \n",
    "import os \n",
    "os.chdir(R'D:\\\\AI\\\\AI Models\\\\3. OpenCV\\\\0- OpenCV\\\\Data\\\\Images')\n",
    "cap = cv.VideoCapture('vtest.avi')\n",
    "frame_width = int(cap.get(cv.CAP_PROP_FRAME_WIDTH))#can replace and put 3 to get frame width \n",
    "frame_height= int(cap.get(cv.CAP_PROP_FRAME_HEIGHT))#can replace and put 4 to get frame height\n",
    "fourcc = cv.VideoWriter_fourcc('X','V','I','D')#*XVID\n",
    "out = cv.VideoWriter('output.avi',fourcc,30,(1280,720))\n",
    "ret,frame1 = cap.read()\n",
    "ret,frame2 = cap.read()\n",
    "print(frame1.shape)\n",
    "while cap.isOpened():\n",
    "    diff = cv.absdiff(frame1,frame2)#to discover the difference between 2 frames \n",
    "    gray = cv.cvtColor(diff,cv.COLOR_BGR2GRAY)\n",
    "    blur = cv.GaussianBlur(gray,(5,5),0)\n",
    "    _,thresh = cv.threshold(blur,60,255,cv.THRESH_BINARY)\n",
    "    dilated  = cv.dilate(thresh,None,iterations = 10)\n",
    "    contours , _ = cv.findContours(dilated,cv.RETR_TREE,cv.CHAIN_APPROX_NONE)\n",
    "    #draw = cv.drawContours(frame1,contours,-1,(0,255,0),2)\n",
    "    for contour in contours : \n",
    "        (x,y,w,h) = cv.boundingRect(contour)\n",
    "        if cv.contourArea(contour)<900:\n",
    "            continue\n",
    "        cv.rectangle(frame1,(x,y),(x+w,y+h),(0,255,0),2)\n",
    "        #cv.putText(frame1,\"Sataus: {}\".format('Movement'),(10,20),cv.FONT_HERSHEY_SIMPLEX,1(0,0,255),3) \n",
    "        cv.putText(frame1, \"Status: {}\".format('Movement'), (10, 20),cv.FONT_HERSHEY_SIMPLEX,1, (0, 0, 255), 3)\n",
    "    image = cv.resize(frame1,(1280,720))\n",
    "    out.write(image)\n",
    "    cv.imshow('Motion Detection',frame1)\n",
    "    #cv.imshow('Thresh',thresh)\n",
    "    #cv.imshow('Dilated',dilated)\n",
    "    #cv.imshow('Draw',draw)\n",
    "    frame1 = frame2 \n",
    "    ret,frame2 = cap.read()\n",
    "    if cv.waitKey(60) == 27:break \n",
    "cv.destroyAllWindows()\n",
    "cap.release()\n",
    "out.release()"
   ]
  },
  {
   "cell_type": "code",
   "execution_count": 1,
   "metadata": {},
   "outputs": [
    {
     "name": "stdout",
     "output_type": "stream",
     "text": [
      "(720, 1280, 3)\n"
     ]
    }
   ],
   "source": [
    "import cv2 as cv \n",
    "import numpy as np \n",
    "import os \n",
    "os.chdir(R'D:\\\\AI\\\\AI Models\\\\3. OpenCV\\\\0- OpenCV\\\\Data\\\\Videos')\n",
    "cap = cv.VideoCapture('8.mp4')\n",
    "frame_width = int(cap.get(cv.CAP_PROP_FRAME_WIDTH))#can replace and put 3 to get frame width \n",
    "frame_height= int(cap.get(cv.CAP_PROP_FRAME_HEIGHT))#can replace and put 4 to get frame height\n",
    "fourcc = cv.VideoWriter_fourcc('X','V','I','D')#*XVID\n",
    "out = cv.VideoWriter('output.avi',fourcc,30,(1280,720))\n",
    "ret,frame1 = cap.read()\n",
    "ret,frame2 = cap.read()\n",
    "print(frame1.shape)\n",
    "while cap.isOpened():\n",
    "    diff = cv.absdiff(frame1,frame2)#to discover the difference between 2 frames \n",
    "    gray = cv.cvtColor(diff,cv.COLOR_BGR2GRAY)\n",
    "    blur = cv.GaussianBlur(gray,(5,5),0)\n",
    "    _,thresh = cv.threshold(blur,60,255,cv.THRESH_BINARY)\n",
    "    dilated  = cv.dilate(thresh,None,iterations = 10)\n",
    "    contours , _ = cv.findContours(dilated,cv.RETR_TREE,cv.CHAIN_APPROX_NONE)\n",
    "    #draw = cv.drawContours(frame1,contours,-1,(0,255,0),2)\n",
    "    for contour in contours : \n",
    "        (x,y,w,h) = cv.boundingRect(contour)\n",
    "        if cv.contourArea(contour)<900:\n",
    "            continue\n",
    "        cv.rectangle(frame1,(x,y),(x+w,y+h),(0,255,0),2)\n",
    "        #cv.putText(frame1,\"Sataus: {}\".format('Movement'),(10,20),cv.FONT_HERSHEY_SIMPLEX,1(0,0,255),3) \n",
    "        cv.putText(frame1, \"Status: {}\".format('Movement'), (10, 20),cv.FONT_HERSHEY_SIMPLEX,1, (0, 0, 255), 3)\n",
    "    image = cv.resize(frame1,(1280,720))\n",
    "    out.write(image)\n",
    "    cv.imshow('Motion Detection',frame1)\n",
    "    #cv.imshow('Thresh',thresh)\n",
    "    #cv.imshow('Dilated',dilated)\n",
    "    #cv.imshow('Draw',draw)\n",
    "    frame1 = frame2 \n",
    "    ret,frame2 = cap.read()\n",
    "    if cv.waitKey(60) == 27:break \n",
    "cv.destroyAllWindows()\n",
    "cap.release()\n",
    "out.release()"
   ]
  },
  {
   "cell_type": "code",
   "execution_count": 1,
   "metadata": {},
   "outputs": [
    {
     "name": "stdout",
     "output_type": "stream",
     "text": [
      "(360, 640, 3)\n"
     ]
    }
   ],
   "source": [
    "import cv2 as cv \n",
    "import numpy as np \n",
    "import os \n",
    "os.chdir(R'D:\\\\AI\\\\AI Models\\\\3. OpenCV\\\\0- OpenCV\\\\Data\\\\Videos')\n",
    "cap = cv.VideoCapture('6.mp4')\n",
    "frame_width = int(cap.get(cv.CAP_PROP_FRAME_WIDTH))#can replace and put 3 to get frame width \n",
    "frame_height= int(cap.get(cv.CAP_PROP_FRAME_HEIGHT))#can replace and put 4 to get frame height\n",
    "fourcc = cv.VideoWriter_fourcc('X','V','I','D')#*XVID\n",
    "out = cv.VideoWriter('output.avi',fourcc,30,(1280,720))\n",
    "ret,frame1 = cap.read()\n",
    "ret,frame2 = cap.read()\n",
    "print(frame1.shape)\n",
    "while cap.isOpened():\n",
    "    diff = cv.absdiff(frame1,frame2)#to discover the difference between 2 frames \n",
    "    gray = cv.cvtColor(diff,cv.COLOR_BGR2GRAY)\n",
    "    blur = cv.GaussianBlur(gray,(5,5),0)\n",
    "    _,thresh = cv.threshold(blur,60,255,cv.THRESH_BINARY)\n",
    "    dilated  = cv.dilate(thresh,None,iterations = 10)\n",
    "    contours , _ = cv.findContours(dilated,cv.RETR_TREE,cv.CHAIN_APPROX_NONE)\n",
    "    #draw = cv.drawContours(frame1,contours,-1,(0,255,0),2)\n",
    "    for contour in contours : \n",
    "        (x,y,w,h) = cv.boundingRect(contour)\n",
    "        if cv.contourArea(contour)<900:\n",
    "            continue\n",
    "        cv.rectangle(frame1,(x,y),(x+w,y+h),(0,255,0),2)\n",
    "        #cv.putText(frame1,\"Sataus: {}\".format('Movement'),(10,20),cv.FONT_HERSHEY_SIMPLEX,1(0,0,255),3) \n",
    "        cv.putText(frame1, \"Status: {}\".format('Movement'), (10, 20),cv.FONT_HERSHEY_SIMPLEX,1, (0, 0, 255), 3)\n",
    "    image = cv.resize(frame1,(1280,720))\n",
    "    out.write(image)\n",
    "    cv.imshow('Motion Detection',frame1)\n",
    "    #cv.imshow('Thresh',thresh)\n",
    "    #cv.imshow('Dilated',dilated)\n",
    "    #cv.imshow('Draw',draw)\n",
    "    frame1 = frame2 \n",
    "    ret,frame2 = cap.read()\n",
    "    if cv.waitKey(60) == 27:break \n",
    "cv.destroyAllWindows()\n",
    "cap.release()\n",
    "out.release()"
   ]
  },
  {
   "cell_type": "code",
   "execution_count": null,
   "metadata": {},
   "outputs": [],
   "source": []
  }
 ],
 "metadata": {
  "kernelspec": {
   "display_name": "dlib36",
   "language": "python",
   "name": "python3"
  },
  "language_info": {
   "codemirror_mode": {
    "name": "ipython",
    "version": 3
   },
   "file_extension": ".py",
   "mimetype": "text/x-python",
   "name": "python",
   "nbconvert_exporter": "python",
   "pygments_lexer": "ipython3",
   "version": "3.6.13"
  }
 },
 "nbformat": 4,
 "nbformat_minor": 2
}
