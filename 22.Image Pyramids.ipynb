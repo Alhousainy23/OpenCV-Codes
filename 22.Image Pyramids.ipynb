{
 "cells": [
  {
   "cell_type": "markdown",
   "id": "e73f5490",
   "metadata": {},
   "source": [
    "* If you need reduce image size using ==> `pryDown`\n",
    "* if you return image size from `lr2` To `lr1` ==> Using `pryUP`"
   ]
  },
  {
   "cell_type": "code",
   "execution_count": 1,
   "id": "3ae3bf2c-f62c-4b82-beb3-c524510e26f0",
   "metadata": {},
   "outputs": [],
   "source": [
    "import cv2 as cv \n",
    "import numpy as np \n",
    "import matplotlib.pyplot as plt \n",
    "import os \n",
    "os.chdir(R\"D:\\\\AI\\\\AI Models\\\\3. OpenCV\\\\0- OpenCV\\\\Data\\\\Images\")\n",
    "img = cv.imread('lena.jpg')\n",
    "lr1 = cv.pyrDown(img)\n",
    "lr2 = cv.pyrDown(lr1)\n",
    "hr2 = cv.pyrUp(lr2)\n",
    "cv.imshow('Original Image',img)\n",
    "cv.imshow('LR1',lr1)\n",
    "cv.imshow('LR2',lr2)\n",
    "cv.imshow('HR2',hr2)\n",
    "cv.waitKey(0)\n",
    "cv.destroyAllWindows()"
   ]
  },
  {
   "cell_type": "markdown",
   "id": "bae3744b",
   "metadata": {},
   "source": [
    "* **Can use `For Loop` instead of using each operation alone**"
   ]
  },
  {
   "cell_type": "code",
   "execution_count": 2,
   "id": "78c647cf",
   "metadata": {},
   "outputs": [],
   "source": [
    "import cv2 as cv \n",
    "import numpy as np \n",
    "import matplotlib.pyplot as plt \n",
    "import os  \n",
    "os.chdir(R\"D:\\\\AI\\\\AI Models\\\\3. OpenCV\\\\0- OpenCV\\\\Data\\\\Images\")\n",
    "img = cv.imread('12.jpg')\n",
    "layer = img.copy()\n",
    "gp = [layer]\n",
    "for i in range (6):\n",
    "    layer = cv.pyrDown(layer)\n",
    "    gp.append(layer)\n",
    "    cv.imshow(str(i),layer)\n",
    "img = cv.resize(img,(500,400))\n",
    "cv.imshow('Orignal Image',img)\n",
    "cv.waitKey(0)\n",
    "cv.destroyAllWindows()"
   ]
  },
  {
   "cell_type": "markdown",
   "id": "71ff7979",
   "metadata": {},
   "source": [
    "* **Applying `Laplacian Pyramdis ` from Gaussian Pyramids**"
   ]
  },
  {
   "cell_type": "code",
   "execution_count": 3,
   "id": "a7e84975",
   "metadata": {},
   "outputs": [],
   "source": [
    "import cv2 as cv \n",
    "import numpy as np \n",
    "import matplotlib.pyplot as plt \n",
    "import os \n",
    "os.chdir(R\"D:\\\\AI\\\\AI Models\\\\3. OpenCV\\\\0- OpenCV\\\\Data\\\\Images\")\n",
    "img = cv.imread('lena.jpg')\n",
    "layer = img.copy()\n",
    "gaussian_pyramid_list = [layer]\n",
    "for i in range (6):\n",
    "    layer = cv.pyrDown(layer)\n",
    "    gaussian_pyramid_list.append(layer)\n",
    "layer = gaussian_pyramid_list[5]#Take List Image in gaussian pyramids\n",
    "cv.imshow('Upper level Gaussian pyramid',layer)\n",
    "laplacian_pyramid_list = [layer]\n",
    "for i in range (5,0,-1): \n",
    "    gaussian_extended = cv.pyrUp(gaussian_pyramid_list[i])\n",
    "    laplacian = cv.subtract(gaussian_pyramid_list[i-1],gaussian_extended)\n",
    "    cv.imshow(str(i),laplacian)\n",
    "cv.imshow('Original Image',img)\n",
    "cv.waitKey(0)\n",
    "cv.destroyAllWindows()"
   ]
  }
 ],
 "metadata": {
  "kernelspec": {
   "display_name": "Python 3",
   "language": "python",
   "name": "python3"
  },
  "language_info": {
   "codemirror_mode": {
    "name": "ipython",
    "version": 3
   },
   "file_extension": ".py",
   "mimetype": "text/x-python",
   "name": "python",
   "nbconvert_exporter": "python",
   "pygments_lexer": "ipython3",
   "version": "3.6.13"
  }
 },
 "nbformat": 4,
 "nbformat_minor": 5
}
