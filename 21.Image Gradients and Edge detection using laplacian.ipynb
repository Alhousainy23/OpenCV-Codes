{
 "cells": [
  {
   "cell_type": "markdown",
   "id": "7b83c66b-729f-4fd7-a594-5123ede7f6ab",
   "metadata": {},
   "source": [
    " * When Using Lap (cv.laplacian(img,cv.CV_64F,ksize=3))\n",
    " * Filter Using on this image is : \n",
    " * [[0 1 0]\n",
    " * [1 -4 1]\n",
    " * [0 1  0]]"
   ]
  },
  {
   "cell_type": "markdown",
   "id": "bfb4a8b9-70d2-46f7-b50e-e807ff9b637f",
   "metadata": {},
   "source": [
    "* When Make Change Filter \n",
    "*  [[0 -1  0]\n",
    "*  [-1 4  -1]\n",
    "*   [0  -1  0]]\n",
    "# Using lap1 = np.uint8(np.absolute((lap))"
   ]
  },
  {
   "cell_type": "code",
   "execution_count": 1,
   "id": "73bbe735-82b2-4d5e-beba-25e02cff5d87",
   "metadata": {},
   "outputs": [],
   "source": [
    "import cv2 as cv \n",
    "import matplotlib.pyplot as plt \n",
    "import numpy as np \n",
    "import os \n",
    "os.chdir(R\"C:\\\\Users\\\\Alhou\\\\3. OpenCV\\\\0- OpenCV\\\\Data\\\\Images\")\n",
    "img  = cv.imread('messi5.jpg',0)\n",
    "img1 = cv.imread('messi5.jpg')\n",
    "lap = cv.Laplacian(img, cv.CV_64F, ksize=3)\n",
    "lap1 = np.uint8(np.absolute(lap))\n",
    "cv.imshow('BGR Image',img1)\n",
    "cv.imshow('Gray Image',img)\n",
    "cv.imshow('Laplacian Image',lap)\n",
    "cv.imshow('Laplacian After Change Filter',lap1)\n",
    "cv.waitKey(0)\n",
    "cv.destroyAllWindows()"
   ]
  },
  {
   "cell_type": "markdown",
   "id": "c7540157-042a-4450-b746-a0564234a158",
   "metadata": {},
   "source": [
    "# Using Sobelx , Sobel y"
   ]
  },
  {
   "cell_type": "code",
   "execution_count": 2,
   "id": "7f52980c-fce9-411f-8311-56dbd636a6db",
   "metadata": {},
   "outputs": [],
   "source": [
    "import cv2 as cv \n",
    "import numpy as np \n",
    "import matplotlib.pyplot as plt \n",
    "import os \n",
    "os.chdir(R\"C:\\\\Users\\\\Alhou\\\\3. OpenCV\\\\0- OpenCV\\\\Data\\\\Images\")\n",
    "img = cv.imread(\"messi5.jpg\",0)\n",
    "lap = cv.Laplacian(img,cv.CV_64F,ksize=3)\n",
    "lap1= np.uint8(np.absolute(lap))\n",
    "sobel_x = cv.Sobel(img,cv.CV_64F,1,0)\n",
    "sobel_y = cv.Sobel(img,cv.CV_64F,0,1)\n",
    "sobel_x1= np.uint8(np.absolute(sobel_x))\n",
    "sobel_y1= np.uint8(np.absolute(sobel_y))\n",
    "cv.imshow('Origiinal_img',img)\n",
    "cv.imshow('Laplacian Image',lap)\n",
    "cv.imshow('Lap after change f',lap1)\n",
    "cv.imshow('sobel_x',sobel_x)\n",
    "cv.imshow('sobel_y',sobel_y)\n",
    "cv.imshow('Sobel_x1',sobel_x1)\n",
    "cv.imshow('Sobel_y1',sobel_y1)\n",
    "cv.waitKey(0)\n",
    "cv.destroyAllWindows()\n"
   ]
  },
  {
   "cell_type": "markdown",
   "id": "2775ee5a",
   "metadata": {},
   "source": [
    "# Summation sobel_x1 + sobel_y2 by using bitwise_or"
   ]
  },
  {
   "cell_type": "code",
   "execution_count": 3,
   "id": "9ada486b",
   "metadata": {},
   "outputs": [],
   "source": [
    "os.chdir(R\"C:\\\\Users\\\\Alhou\\\\3. OpenCV\\\\0- OpenCV\\\\Data\\\\Images\")\n",
    "img = cv.imread(\"sudoku.png\")\n",
    "sobel_x = cv.Sobel(img,cv.CV_64F,1,0)\n",
    "sobel_y = cv.Sobel(img,cv.CV_64F,0,1)\n",
    "sobel_x1= np.uint8(np.absolute(sobel_x))\n",
    "sobel_y1= np.uint8(np.absolute(sobel_y))\n",
    "compine_sobel_x_and_y = cv.bitwise_or(sobel_x1,sobel_y1)\n",
    "cv.imshow('Origiinal_img',img)\n",
    "cv.imshow('Sobel_x1',sobel_x1)\n",
    "cv.imshow('Sobel_y1',sobel_y1)\n",
    "cv.imshow('Compine Sobel', compine_sobel_x_and_y)\n",
    "cv.waitKey(0)\n",
    "cv.destroyAllWindows()"
   ]
  },
  {
   "cell_type": "code",
   "execution_count": 4,
   "id": "5a2faa89",
   "metadata": {},
   "outputs": [],
   "source": [
    "import cv2 as cv \n",
    "import numpy as np \n",
    "import matplotlib.pyplot as plt \n",
    "import os \n",
    "os.chdir(R\"C:\\\\Users\\\\Alhou\\\\3. OpenCV\\\\0- OpenCV\\\\Data\\\\Images\")\n",
    "img = cv.imread(\"sudoku.png\")\n",
    "lap = cv.Laplacian(img,cv.CV_64F,ksize=3)\n",
    "lap1= np.uint8(np.absolute(lap))\n",
    "sobel_x = cv.Sobel(img,cv.CV_64F,1,0)\n",
    "sobel_y = cv.Sobel(img,cv.CV_64F,0,1)\n",
    "sobel_x1= np.uint8(np.absolute(sobel_x))\n",
    "sobel_y1= np.uint8(np.absolute(sobel_y))\n",
    "cv.imshow('Origiinal_img',img)\n",
    "cv.imshow('Laplacian Image',lap)\n",
    "cv.imshow('Lap after change f',lap1)\n",
    "cv.imshow('sobel_x',sobel_x)\n",
    "cv.imshow('sobel_y',sobel_y)\n",
    "cv.imshow('Sobel_x1',sobel_x1)\n",
    "cv.imshow('Sobel_y1',sobel_y1)\n",
    "cv.waitKey(0)\n",
    "cv.destroyAllWindows()\n"
   ]
  },
  {
   "cell_type": "markdown",
   "id": "1645c4a6",
   "metadata": {},
   "source": [
    "# Canny Edge Detection\n"
   ]
  },
  {
   "cell_type": "code",
   "execution_count": 5,
   "id": "61f72d12",
   "metadata": {},
   "outputs": [],
   "source": [
    "import cv2 as cv \n",
    "import matplotlib.pyplot as plt \n",
    "import numpy as np \n",
    "import os \n",
    "os.chdir(R\"C:\\\\Users\\\\Alhou\\\\3. OpenCV\\\\0- OpenCV\\\\Data\\\\Images\")\n",
    "img = cv.imread(\"sudoku.png\")\n",
    "lap = cv.Laplacian(img,cv.CV_64F,ksize=3)\n",
    "lap1= np.uint8(np.absolute(lap))\n",
    "sobel_x = cv.Sobel(img,cv.CV_64F,1,0)\n",
    "sobel_y = cv.Sobel(img,cv.CV_64F,0,1)\n",
    "sobel_x1= np.uint8(np.absolute(sobel_x))\n",
    "sobel_y1= np.uint8(np.absolute(sobel_y))\n",
    "compine_sobel_x_and_y = cv.bitwise_or(sobel_x1,sobel_y1)\n",
    "canny = cv.Canny(img,100,200)\n",
    "cv.imshow('Origiinal_img',img)\n",
    "cv.imshow('Laplacian Image',lap)\n",
    "cv.imshow('Lap after change f',lap1)\n",
    "cv.imshow('sobel_x',sobel_x)\n",
    "cv.imshow('sobel_y',sobel_y)\n",
    "cv.imshow('Sobel_x1',sobel_x1)\n",
    "cv.imshow('Sobel_y1',sobel_y1)\n",
    "cv.imshow('Compine Sobel', compine_sobel_x_and_y)\n",
    "cv.imshow('Canny Image',canny)\n",
    "cv.waitKey(0)\n",
    "cv.destroyAllWindows()"
   ]
  },
  {
   "cell_type": "code",
   "execution_count": 4,
   "id": "ef0156c0",
   "metadata": {},
   "outputs": [],
   "source": [
    "import cv2 as cv \n",
    "import matplotlib.pyplot as plt \n",
    "import numpy as np \n",
    "import os \n",
    "os.chdir(R\"C:\\\\Users\\\\Alhou\\\\3. OpenCV\\\\0- OpenCV\\\\Data\\\\Images\")\n",
    "img = cv.imread(\"messi5.jpg\",0)\n",
    "lap = cv.Laplacian(img,cv.CV_64F,ksize=3)\n",
    "lap1= np.uint8(np.absolute(lap))\n",
    "sobel_x = cv.Sobel(img,cv.CV_64F,1,0)\n",
    "sobel_y = cv.Sobel(img,cv.CV_64F,0,1)\n",
    "sobel_x1= np.uint8(np.absolute(sobel_x))\n",
    "sobel_y1= np.uint8(np.absolute(sobel_y))\n",
    "compine_sobel_x_and_y = cv.bitwise_or(sobel_x1,sobel_y1)\n",
    "canny = cv.Canny(img,100,200)\n",
    "cv.imshow('Origiinal_img',img)\n",
    "cv.imshow('Laplacian Image',lap)\n",
    "cv.imshow('Lap after change f',lap1)\n",
    "cv.imshow('sobel_x',sobel_x)\n",
    "cv.imshow('sobel_y',sobel_y)\n",
    "cv.imshow('Sobel_x1',sobel_x1)\n",
    "cv.imshow('Sobel_y1',sobel_y1)\n",
    "cv.imshow('Compine Sobel', compine_sobel_x_and_y)\n",
    "cv.imshow('Canny Image',canny)\n",
    "cv.waitKey(0)\n",
    "cv.destroyAllWindows()"
   ]
  }
 ],
 "metadata": {
  "kernelspec": {
   "display_name": "Python 3",
   "language": "python",
   "name": "python3"
  },
  "language_info": {
   "codemirror_mode": {
    "name": "ipython",
    "version": 3
   },
   "file_extension": ".py",
   "mimetype": "text/x-python",
   "name": "python",
   "nbconvert_exporter": "python",
   "pygments_lexer": "ipython3",
   "version": "3.6.13"
  }
 },
 "nbformat": 4,
 "nbformat_minor": 5
}
