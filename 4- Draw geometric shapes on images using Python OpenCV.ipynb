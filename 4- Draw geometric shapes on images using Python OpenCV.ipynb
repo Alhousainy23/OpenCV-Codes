{
 "cells": [
  {
   "cell_type": "markdown",
   "metadata": {},
   "source": [
    "`Unit 8` --> Is meaning data type for integer 8 \n"
   ]
  },
  {
   "cell_type": "code",
   "execution_count": 1,
   "metadata": {},
   "outputs": [],
   "source": [
    "import cv2 as cv \n",
    "import numpy as np \n",
    "img = np.zeros([512,512,3],np.uint8)\n",
    "cv.imshow('Image', img)\n",
    "cv.destroyAllWindows()"
   ]
  },
  {
   "cell_type": "markdown",
   "metadata": {},
   "source": [
    "1. Draw Line \n",
    "* Detect Cardinates (pt1 , pt2 , color , thickness)\n",
    "  1. `pt1` --> represent by `(0,0)`\n",
    "  2. `pt2` --> represent by `(255,255)`\n",
    "  3. `color` --> represent by `(0,255,0)`\n",
    "  4. `Thickness` --> represent by `(10)`"
   ]
  },
  {
   "cell_type": "markdown",
   "metadata": {},
   "source": [
    "2. Draw ArrowedLine\n",
    "* **Detect Cardinates (pt1 , pt2 , color , thickness)**\n",
    "  1. `pt1` --> represent by `(0,255)`\n",
    "  2. `pt2` --> represent by `(256,256)`\n",
    "  3. `color` --> represent by `(255,0,0)`\n",
    "  4. `Thickness` --> represent by `(5)`"
   ]
  },
  {
   "cell_type": "markdown",
   "metadata": {},
   "source": [
    "* To Draw and fill rectangle use -1 instead of 4 \n",
    "* `cv2.rectangle` --> (img,(284,0),(510,128),(0,0,255),`-1`)\n"
   ]
  },
  {
   "cell_type": "code",
   "execution_count": 2,
   "metadata": {},
   "outputs": [],
   "source": [
    "import cv2 \n",
    "import numpy as np \n",
    "#Create Window Size \n",
    "img = np.zeros([512,512,3],np.uint8)\n",
    "#cv2.imshow('Window Image ',img)\n",
    "#1. To Draw Line \n",
    "cv2.line(img,(0,0),(255,255),(0,255,0),10)\n",
    "#2. Draw Arrowed Line\n",
    "cv2.arrowedLine(img,(0,255),(256,256),(255,0,0),5)\n",
    "cv2.imshow('Image',img)\n",
    "k = cv2.waitKey(0)\n",
    "if k == 27 : cv2.destroyAllWindows()"
   ]
  },
  {
   "cell_type": "code",
   "execution_count": 4,
   "metadata": {},
   "outputs": [],
   "source": [
    "img = np.zeros([512,512,3],np.uint8)\n",
    "#Draw Rectangle \n",
    "cv2.rectangle(img,(84,0),(210,128),(0,0,255),-1)\\\n",
    "#Draw Circle \n",
    "cv2.circle(img,(447,63),63,(128,190,50),-1)\n",
    "cv2.imshow('New Image',img)\n",
    "k = cv2.waitKey(0)\n",
    "if k == 27 : cv2.destroyAllWindows()"
   ]
  },
  {
   "cell_type": "code",
   "execution_count": 7,
   "metadata": {},
   "outputs": [],
   "source": [
    "img = np.zeros([512,512,3],np.uint8)\n",
    "#Write text on image \n",
    "font = cv2.FONT_HERSHEY_SIMPLEX\n",
    "cv2.putText(img,'Computer Vision' , (10,210), font , 1 , (255,255,255),2)\n",
    "# Apply polylines \n",
    "pts = np.array([[10,5],[20,30],[70,20],[50,10]],np.int32)\n",
    "cv2.polylines(img,[pts],True,(0,0,255))\n",
    "cv2.imshow('New Image ', img)\n",
    "k = cv2.waitKey(0)\n",
    "if k == 27 : cv2.destroyAllWindows()"
   ]
  },
  {
   "cell_type": "code",
   "execution_count": 2,
   "metadata": {},
   "outputs": [],
   "source": [
    "#To Draw Line \n",
    "cv.line(img,(0,0),(255,255),(0,255,0),10)\n",
    "#To Draw ArrowedLine\n",
    "cv.arrowedLine(img,(0,255),(256,256),(255,0,0),5)\n",
    "# To Draw Rectangle \n",
    "cv.rectangle(img,(84,0),(210,128),(0,0,255),4)\n",
    "#To Draw Circle\n",
    "cv.circle(img,(447,63),63,(128,190,50),-1)\n",
    "#To Put Text On Image \n",
    "font = cv.FONT_HERSHEY_SIMPLEX\n",
    "cv.putText(img , 'Computer Vision',(10,210),font,1,(10,255,255),5)\n",
    "# To Apply polylines\n",
    "pts = np.array([[10,5],[20,30],[70,20],[50,10]], np.int32)\n",
    "cv.polylines(img,[pts],True,(0,255,255))\n",
    "cv.imshow('Image',img)\n",
    "k = cv.waitKey(0)\n",
    "if k == 27 : cv.destroyAllWindows()"
   ]
  },
  {
   "cell_type": "code",
   "execution_count": 9,
   "metadata": {},
   "outputs": [],
   "source": [
    "img1 = np.zeros([512,512,3],np.uint8)\n",
    "#To Draw Line \n",
    "#cv2.line(img,(0,0),(255,255),(0,255,0),10)\n",
    "#To Draw ArrowedLine\n",
    "#cv2.arrowedLine(img,(0,255),(256,256),(255,0,0),5)\n",
    "# To Draw Rectangle \n",
    "cv2.rectangle(img1,(84,0),(210,128),(0,0,255),4)\n",
    "#To Draw Circle\n",
    "cv2.circle(img1,(447,63),63,(128,190,50),-1)\n",
    "#To Put Text On Image \n",
    "font = cv2.FONT_HERSHEY_SIMPLEX\n",
    "cv2.putText(img1, 'Computer Vision',(10,210),font,1,(10,255,255),5)\n",
    "# To Apply polylines\n",
    "pts = np.array([[10,5],[20,30],[70,20],[50,10]], np.int32)\n",
    "cv2.polylines(img1,[pts],False,(255,255,255))\n",
    "cv2.imshow('Image',img1)\n",
    "k = cv2.waitKey(0)\n",
    "if k == 27 : cv2.destroyAllWindows()"
   ]
  }
 ],
 "metadata": {
  "kernelspec": {
   "display_name": "Python 3",
   "language": "python",
   "name": "python3"
  },
  "language_info": {
   "codemirror_mode": {
    "name": "ipython",
    "version": 3
   },
   "file_extension": ".py",
   "mimetype": "text/x-python",
   "name": "python",
   "nbconvert_exporter": "python",
   "pygments_lexer": "ipython3",
   "version": "3.10.0"
  },
  "orig_nbformat": 4
 },
 "nbformat": 4,
 "nbformat_minor": 2
}
