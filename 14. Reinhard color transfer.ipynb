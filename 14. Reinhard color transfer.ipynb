{
 "cells": [
  {
   "cell_type": "markdown",
   "metadata": {},
   "source": [
    "* Os --> Operating System Library --> Used To Read , Change Directory"
   ]
  },
  {
   "cell_type": "code",
   "execution_count": 2,
   "metadata": {},
   "outputs": [
    {
     "name": "stdout",
     "output_type": "stream",
     "text": [
      "pngtree-beautiful-train-tracks-that-lead-into-deep-green-forest-image_2530076.png\n"
     ]
    }
   ],
   "source": [
    "import numpy as np \n",
    "import cv2 as cv \n",
    "import os\n",
    "os.chdir(R\"D:\\\\AI\\\\AI Models\\\\3. OpenCV\\\\0- OpenCV\\\\Data\\\\Images\\\\1. Reinhard Algorithm\")\n",
    "input_dir = \"1. input_images/\"\n",
    "input_image_list = os.listdir(input_dir)\n",
    "output_dir = \"3.output_images/\"\n",
    "def get_mean_std(x):\n",
    "    x_mean , x_std = cv.meanStdDev(x)\n",
    "    x_mean = np.hstack(np.around(x_mean,2))\n",
    "    x_std  = np.hstack(np.around(x_std,2))\n",
    "    return x_mean , x_std \n",
    "#Read Source Image \n",
    "template_image = cv.imread(\"2. templete_images/428690.jpg\")\n",
    "#Convert Photo To Lab Space \n",
    "template_image = cv.cvtColor(template_image,cv.COLOR_BGR2LAB)\n",
    "#To Get Mean & Std For Image From Function \n",
    "template_mean,template_std = get_mean_std(template_image)\n",
    "#Read Image \n",
    "for img in (input_image_list):\n",
    "    print(img)\n",
    "    input_img =cv.imread(input_dir+img)\n",
    "    input_img =cv.cvtColor(input_img,cv.COLOR_BGR2LAB)\n",
    "    img_mean,img_std = get_mean_std(input_img)\n",
    "    height , width , channels = input_img.shape \n",
    "    for i in range(0,height):\n",
    "        for j in range(0,width):\n",
    "            for k in range(0,channels):\n",
    "                x = input_img[i,j,k]\n",
    "                x=((x-img_mean[k]) * (template_std[k] / img_std[k])) + template_mean[k]\n",
    "                x = round(x)\n",
    "                #Boundary Check\n",
    "                x = 0 if x<0 else x \n",
    "                x = 255 if x > 255 else x \n",
    "                input_img[i,j,k] = x \n",
    "    input_img = cv.cvtColor(input_img,cv.COLOR_LAB2BGR)\n",
    "    cv.imwrite(output_dir+\"modified_\"+img,input_img)"
   ]
  },
  {
   "cell_type": "markdown",
   "metadata": {},
   "source": [
    "# Another Image "
   ]
  },
  {
   "cell_type": "markdown",
   "metadata": {},
   "source": [
    "import numpy as np \n",
    "import cv2 as cv \n",
    "import os\n",
    "os.chdir(r\"D:\\\\AI\\\\17.2 - Computer Vision\\\\Data\")\n",
    "input_dir = \"input_images/\"\n",
    "input_image_list = os.listdir(input_dir)\n",
    "output_dir = \"output_images/\"\n",
    "def get_mean_std(x):\n",
    "    x_mean , x_std = cv.meanStdDev(x)\n",
    "    x_mean = np.hstack(np.around(x_mean,2))\n",
    "    x_std  = np.hstack(np.around(x_std,2))\n",
    "    return x_mean , x_std \n",
    "#Read Source Image \n",
    "template_image = cv.imread(\"template_images/428690.jpg\")\n",
    "#Convert Photo To Lab Space \n",
    "template_image = cv.cvtColor(template_image,cv.COLOR_BGR2LAB)\n",
    "#To Get Mean & Std For Image From Function \n",
    "template_mean,template_std = get_mean_std(template_image)\n",
    "#Read Image \n",
    "for img in (input_image_list):\n",
    "    print(img)\n",
    "    input_img =cv.imread(input_dir+img)\n",
    "    input_img =cv.cvtColor(input_img,cv.COLOR_BGR2LAB)\n",
    "    img_mean,img_std = get_mean_std(input_img)\n",
    "    height , width , channels = input_img.shape \n",
    "    for i in range(0,height):\n",
    "        for j in range(0,width):\n",
    "            for k in range(0,channels):\n",
    "                x = input_img[i,j,k]\n",
    "                x=((x-img_mean[k]) * (template_std[k] / img_std[k])) + template_mean[k]\n",
    "                x = round(x)\n",
    "                #Boundary Check\n",
    "                x = 0 if x<0 else x \n",
    "                x = 255 if x > 255 else x \n",
    "                input_img[i,j,k] = x \n",
    "    input_img = cv.cvtColor(input_img,cv.COLOR_LAB2BGR)\n",
    "    cv.imwrite(output_dir+\"modified_\"+img,input_img)"
   ]
  },
  {
   "cell_type": "code",
   "execution_count": 3,
   "metadata": {},
   "outputs": [
    {
     "name": "stdout",
     "output_type": "stream",
     "text": [
      "pngtree-beautiful-train-tracks-that-lead-into-deep-green-forest-image_2530076.png\n"
     ]
    }
   ],
   "source": [
    "import numpy as np \n",
    "import cv2 as cv \n",
    "import os \n",
    "os.chdir(R\"D:\\\\AI\\\\AI Models\\\\3. OpenCV\\\\0- OpenCV\\\\Data\\\\Images\\\\1. Reinhard Algorithm\")\n",
    "input_dir1 = \"1. input_images/\"\n",
    "input_image_list1 = os.listdir(input_dir1)\n",
    "output_dir1 = \"3.output_images/\"\n",
    "# Create Function To calculate Mean & STD\n",
    "def get_mean_std1(x_image):\n",
    "    x1_mean,x1_std = cv.meanStdDev(x_image)\n",
    "    x1_mean = np.hstack(np.around(x1_mean,2))\n",
    "    x1_std  = np.hstack(np.around(x1_std,2))\n",
    "    return x1_mean , x1_std\n",
    "#Read Source Image \n",
    "template_image1 = cv.imread(\"2. templete_images/11.jpg\")\n",
    "#Convert image to lab space \n",
    "template_image = cv.cvtColor(template_image,cv.COLOR_BGR2LAB)\n",
    "#To Get Mean & Std For Image From Function \n",
    "template_mean,template_std = get_mean_std(template_image)\n",
    "#Read Image \n",
    "for img in (input_image_list):\n",
    "    print(img)\n",
    "    input_img =cv.imread(input_dir+img)\n",
    "    input_img =cv.cvtColor(input_img,cv.COLOR_BGR2LAB)\n",
    "    img_mean,img_std = get_mean_std(input_img)\n",
    "    height , width , channels = input_img.shape \n",
    "    for i in range(0,height):\n",
    "        for j in range(0,width):\n",
    "            for k in range(0,channels):\n",
    "                x = input_img[i,j,k]\n",
    "                x=((x-img_mean[k]) * (template_std[k] / img_std[k])) + template_mean[k]\n",
    "                x = round(x)\n",
    "                #Boundary Check\n",
    "                x = 0 if x<0 else x \n",
    "                x = 255 if x > 255 else x \n",
    "                input_img[i,j,k] = x \n",
    "    input_img = cv.cvtColor(input_img,cv.COLOR_LAB2BGR)\n",
    "    cv.imwrite(output_dir+\"modified_\"+img,input_img)"
   ]
  },
  {
   "cell_type": "code",
   "execution_count": null,
   "metadata": {},
   "outputs": [],
   "source": []
  }
 ],
 "metadata": {
  "kernelspec": {
   "display_name": "Python 3",
   "language": "python",
   "name": "python3"
  },
  "language_info": {
   "codemirror_mode": {
    "name": "ipython",
    "version": 3
   },
   "file_extension": ".py",
   "mimetype": "text/x-python",
   "name": "python",
   "nbconvert_exporter": "python",
   "pygments_lexer": "ipython3",
   "version": "3.10.0"
  },
  "orig_nbformat": 4
 },
 "nbformat": 4,
 "nbformat_minor": 2
}
