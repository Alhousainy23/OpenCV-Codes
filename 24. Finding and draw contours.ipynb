{
 "cells": [
  {
   "cell_type": "code",
   "execution_count": 1,
   "metadata": {},
   "outputs": [
    {
     "name": "stdout",
     "output_type": "stream",
     "text": [
      "The number of contours are -->  3\n",
      "[[[329 204]]\n",
      "\n",
      " [[328 205]]\n",
      "\n",
      " [[327 205]]\n",
      "\n",
      " ...\n",
      "\n",
      " [[332 206]]\n",
      "\n",
      " [[331 205]]\n",
      "\n",
      " [[330 204]]]\n"
     ]
    }
   ],
   "source": [
    "import cv2 as cv \n",
    "import numpy as np \n",
    "import matplotlib.pyplot as plt \n",
    "import pandas as pd\n",
    "import os \n",
    "os.chdir(R\"D:\\\\AI\\\\AI Models\\\\3. OpenCV\\\\0- OpenCV\\\\Data\\\\Images\") \n",
    "img = cv.imread('cv.png')\n",
    "img =cv.resize(img,(512,512))\n",
    "imggray = cv.cvtColor(img,cv.COLOR_BGR2GRAY)\n",
    "_,thresh = cv.threshold(imggray,20,255,0)\n",
    "contours ,hierarchy = cv.findContours(thresh,cv.RETR_TREE,cv.CHAIN_APPROX_NONE)\n",
    "print('The number of contours are --> ', str(len(contours)))\n",
    "print(contours[0])\n",
    "cv.drawContours(img,contours,-1,(0,255,0),3)\n",
    "cv.imshow('Image',img)\n",
    "cv.imshow('Gray Image',imggray)\n",
    "cv.imshow('Thresh',thresh)\n",
    "cv.waitKey(0)\n",
    "cv.destroyAllWindows()"
   ]
  },
  {
   "cell_type": "code",
   "execution_count": null,
   "metadata": {},
   "outputs": [],
   "source": []
  }
 ],
 "metadata": {
  "kernelspec": {
   "display_name": "alhousainy_dlib",
   "language": "python",
   "name": "python3"
  },
  "language_info": {
   "codemirror_mode": {
    "name": "ipython",
    "version": 3
   },
   "file_extension": ".py",
   "mimetype": "text/x-python",
   "name": "python",
   "nbconvert_exporter": "python",
   "pygments_lexer": "ipython3",
   "version": "3.6.13"
  }
 },
 "nbformat": 4,
 "nbformat_minor": 2
}
