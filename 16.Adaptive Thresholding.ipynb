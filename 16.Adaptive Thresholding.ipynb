{
 "cells": [
  {
   "cell_type": "code",
   "execution_count": 2,
   "metadata": {},
   "outputs": [],
   "source": [
    "import numpy as np \n",
    "import cv2 as cv \n",
    "import os \n",
    "os.chdir(R\"D:\\\\AI\\\\AI Models\\\\3. OpenCV\\\\0- OpenCV\\\\Data\\\\Images\")\n",
    "img = cv.imread('sudoku.png',0)\n",
    "ret1,th1 = cv.threshold(img,127,255,cv.THRESH_BINARY)\n",
    "th2 = cv.adaptiveThreshold(img,255,cv.ADAPTIVE_THRESH_MEAN_C,cv.THRESH_BINARY,111,2)\n",
    "th3 = cv.adaptiveThreshold(img,255,cv.ADAPTIVE_THRESH_GAUSSIAN_C,cv.THRESH_BINARY,111,2)\n",
    "img = cv.resize(img,(300,300))\n",
    "th1 = cv.resize(th1,(300,300))\n",
    "th2 = cv.resize(th2,(300,300))\n",
    "th3 = cv.resize(th3,(300,300))\n",
    "cv.imshow('Original Image', img)\n",
    "cv.imshow('THRESH_BINAR',th1)\n",
    "cv.imshow('ADAPTIVE_THRESH_MEAN_C',th2)\n",
    "cv.imshow('ADAPTIVE_THRESH_GAUSSIAN_C',th3)\n",
    "k = cv.waitKey(0)\n",
    "if k == 27 : cv.destroyAllWindows()"
   ]
  }
 ],
 "metadata": {
  "kernelspec": {
   "display_name": "Python 3",
   "language": "python",
   "name": "python3"
  },
  "language_info": {
   "codemirror_mode": {
    "name": "ipython",
    "version": 3
   },
   "file_extension": ".py",
   "mimetype": "text/x-python",
   "name": "python",
   "nbconvert_exporter": "python",
   "pygments_lexer": "ipython3",
   "version": "3.10.0"
  },
  "orig_nbformat": 4
 },
 "nbformat": 4,
 "nbformat_minor": 2
}
