{
 "cells": [
  {
   "cell_type": "code",
   "execution_count": 1,
   "metadata": {},
   "outputs": [],
   "source": [
    "import numpy as np \n",
    "import cv2 as cv \n",
    "import matplotlib.pyplot as plt \n",
    "import os  \n",
    "os.chdir(R\"D:\\\\AI\\\\AI Models\\\\3. OpenCV\\\\0- OpenCV\\\\Data\\\\Videos\")\n",
    "cap = cv.VideoCapture(\"eye_recording.flv\")\n",
    "while True: \n",
    "    ret,frame = cap.read()\n",
    "    if ret is False : break \n",
    "    roi = frame [269:795,537:1416]\n",
    "    rows,cols ,_ = roi.shape \n",
    "    gray_roi = cv.cvtColor(roi,cv.COLOR_BGR2GRAY)\n",
    "    gray_roi =cv.GaussianBlur(gray_roi,(7,7),0)\n",
    "    _,threshold = cv.threshold(gray_roi,3,255,cv.THRESH_BINARY_INV)\n",
    "    contours,_ = cv.findContours(threshold,cv.RETR_TREE,cv.CHAIN_APPROX_SIMPLE)\n",
    "    contour = sorted(contours,key=lambda x:cv.contourArea(x),reverse=True)\n",
    "    for cont in contour:\n",
    "        (x,y,w,h) = cv.boundingRect(cont)\n",
    "        cv.rectangle(roi,(x,y),(x+w,y+h),(255,0,0),2)\n",
    "        cv.line(roi,(x+int(w/2),0),(x+int(w/2),rows),(0,255,0),2)\n",
    "        cv.line(roi,(0,y+int(h/2)),(cols,y+int(h/2)),(0,255,0),2)\n",
    "        break \n",
    "    #rame1 = cv.resize(frame1,(450,500))\n",
    "    threshold = cv.resize(threshold,(350,400))\n",
    "    gray_roi  = cv.resize(gray_roi,(350,400))\n",
    "    roi = cv.resize(roi,(350,400))\n",
    "    cv.imshow('Threshold',threshold)\n",
    "    cv.imshow(\"Gray_roi\",gray_roi)\n",
    "    cv.imshow(\"ROI\",roi)\n",
    "    key = cv.waitKey(30)\n",
    "    if key ==27:break \n",
    "cv.destroyAllWindows()"
   ]
  },
  {
   "cell_type": "code",
   "execution_count": null,
   "metadata": {},
   "outputs": [],
   "source": []
  }
 ],
 "metadata": {
  "kernelspec": {
   "display_name": "dlib36",
   "language": "python",
   "name": "python3"
  },
  "language_info": {
   "codemirror_mode": {
    "name": "ipython",
    "version": 3
   },
   "file_extension": ".py",
   "mimetype": "text/x-python",
   "name": "python",
   "nbconvert_exporter": "python",
   "pygments_lexer": "ipython3",
   "version": "3.6.13"
  }
 },
 "nbformat": 4,
 "nbformat_minor": 2
}
