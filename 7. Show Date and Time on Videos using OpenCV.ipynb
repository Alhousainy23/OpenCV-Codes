{
 "cells": [
  {
   "cell_type": "code",
   "execution_count": 6,
   "metadata": {},
   "outputs": [
    {
     "name": "stdout",
     "output_type": "stream",
     "text": [
      "The Width Is -->  640.0\n",
      "The Height Is -->  480.0\n",
      "The Cap Get 3 Is -->  640.0\n",
      "The Cap Get 4 Is -->  480.0\n"
     ]
    }
   ],
   "source": [
    "import numpy as np \n",
    "import cv2 as cv \n",
    "import datetime\n",
    "cap = cv.VideoCapture(0)\n",
    "print('The Width Is --> ', cap.get(cv.CAP_PROP_FRAME_WIDTH))\n",
    "print('The Height Is --> ', cap.get(cv.CAP_PROP_FRAME_HEIGHT))\n",
    "#To Detect The Width & Height Manual Use set \n",
    "cap.set(3,850)\n",
    "cap.set(4,950)\n",
    "print('The Cap Get 3 Is --> ',cap.get(3))\n",
    "print('The Cap Get 4 Is --> ',cap.get(4))\n",
    "while (cap.isOpened()):\n",
    "    ret,frame = cap.read()\n",
    "    if ret == True :\n",
    "        font = cv.FONT_HERSHEY_SIMPLEX\n",
    "        text = 'Width Frame Is: ' + str(cap.get(3)) +' '+' Height Frame Is  : ' +str(cap.get(4))\n",
    "        datet = str(datetime.datetime.now())\n",
    "        frame = cv.putText(frame,text ,(10,50),font , 1 , (0 , 0 , 0), 2)\n",
    "        frame = cv.putText(frame,datet,(10,100),font , 1 , (0,0,0),2)\n",
    "        #gray = cv.cvtColor(frame,cv.COLOR_BGR2GRAY)\n",
    "        #cv.imshow('Frame', gray)\n",
    "        cv.imshow('Frame', frame)\n",
    "        if cv.waitKey(1) & 0xFF == ord('q'):break \n",
    "    else : break \n",
    "cap.release()\n",
    "cv.destroyAllWindows()\n",
    "        "
   ]
  },
  {
   "cell_type": "code",
   "execution_count": null,
   "metadata": {},
   "outputs": [],
   "source": []
  }
 ],
 "metadata": {
  "kernelspec": {
   "display_name": "Python 3",
   "language": "python",
   "name": "python3"
  },
  "language_info": {
   "codemirror_mode": {
    "name": "ipython",
    "version": 3
   },
   "file_extension": ".py",
   "mimetype": "text/x-python",
   "name": "python",
   "nbconvert_exporter": "python",
   "pygments_lexer": "ipython3",
   "version": "3.10.0"
  },
  "orig_nbformat": 4
 },
 "nbformat": 4,
 "nbformat_minor": 2
}
