{
 "cells": [
  {
   "cell_type": "markdown",
   "metadata": {},
   "source": [
    "* **First Method To Use Color Recognition**"
   ]
  },
  {
   "cell_type": "code",
   "execution_count": 1,
   "metadata": {},
   "outputs": [],
   "source": [
    "import numpy as np \n",
    "import cv2 as cv \n",
    "def nothing(x) : pass \n",
    "#Trackbar\n",
    "cv.namedWindow(\"frame\")\n",
    "cv.createTrackbar('H',\"frame\",0,179,nothing)\n",
    "cv.createTrackbar('S',\"frame\",255,255,nothing)\n",
    "cv.createTrackbar('V','frame',255,255,nothing)\n",
    "img_csv = np.zeros((250,500,3), dtype = np.uint8)\n",
    "while True :\n",
    "    h = cv.getTrackbarPos(\"H\",'frame')\n",
    "    s = cv.getTrackbarPos('S','frame')\n",
    "    v = cv.getTrackbarPos('V','frame')\n",
    "    img_csv [:] = (h,s,v)\n",
    "    img_bgr = cv.cvtColor(img_csv,cv.COLOR_HSV2BGR)\n",
    "    cv.imshow(\"frame\",img_bgr)\n",
    "    key = cv.waitKey(1)\n",
    "    if key == 27 : break \n",
    "cv.destroyAllWindows()"
   ]
  },
  {
   "cell_type": "markdown",
   "metadata": {},
   "source": [
    "* **Second Method To Detect Color Recognition**"
   ]
  },
  {
   "cell_type": "markdown",
   "metadata": {},
   "source": [
    "* **`_`** --> Is Number of channels in Image /Video "
   ]
  },
  {
   "cell_type": "markdown",
   "metadata": {},
   "source": [
    "* `-1` --> Fill Shape"
   ]
  },
  {
   "cell_type": "code",
   "execution_count": 2,
   "metadata": {},
   "outputs": [],
   "source": [
    "import numpy as np  \n",
    "import cv2 as cv \n",
    "def nothing(x):pass \n",
    "capture = cv.VideoCapture(0)\n",
    "capture.set(cv.CAP_PROP_FRAME_WIDTH,1280)\n",
    "capture.set(cv.CAP_PROP_FRAME_HEIGHT,720)\n",
    "while True : \n",
    "    _,frame = capture.read()\n",
    "    hsv_frame = cv.cvtColor(frame,cv.COLOR_BGR2HSV)\n",
    "    height,width,_=frame.shape\n",
    "    center_x =int(width/2)\n",
    "    center_y =int(height/2)\n",
    "    #Pick Pixel Value \n",
    "    pixel_center= hsv_frame[center_y,center_x]\n",
    "    hue_value = pixel_center[0]\n",
    "    #Put Hue_Value Range \n",
    "    color = \"Undefined\"\n",
    "    if hue_value < 5  : color = 'RED'\n",
    "    elif hue_value<22 : color = 'ORANGE'\n",
    "    elif hue_value<33 : color = 'YELLOW'\n",
    "    elif hue_value<78 : color = 'GREEN'\n",
    "    elif hue_value<131: color = 'BLUE'\n",
    "    elif hue_value<170: color = 'VIOLET'\n",
    "    else : color ='RED'\n",
    "    pixel_center_bgr =frame[center_y,center_x]\n",
    "    b,g,r = int(pixel_center_bgr[0]),int(pixel_center_bgr[1]),int(pixel_center_bgr[2])\n",
    "    #Create Biogmetric \n",
    "    cv.rectangle(frame,(center_x-220,10),(center_x+200,120),(255,255,255),-1)\n",
    "    cv.putText(frame,color,(center_x-200,100),0,3,(b,g,r),5)\n",
    "    cv.circle(frame,(center_x,center_y),5,(25,25,25),3)\n",
    "    cv.imshow('Frame',frame)\n",
    "    #out.write(frame)# Save Image\n",
    "    key = cv.waitKey(1)\n",
    "    if key == 27 : break \n",
    "capture.release()\n",
    "cv.destroyAllWindows()"
   ]
  },
  {
   "cell_type": "code",
   "execution_count": null,
   "metadata": {},
   "outputs": [],
   "source": []
  }
 ],
 "metadata": {
  "kernelspec": {
   "display_name": "Python 3",
   "language": "python",
   "name": "python3"
  },
  "language_info": {
   "codemirror_mode": {
    "name": "ipython",
    "version": 3
   },
   "file_extension": ".py",
   "mimetype": "text/x-python",
   "name": "python",
   "nbconvert_exporter": "python",
   "pygments_lexer": "ipython3",
   "version": "3.6.13"
  },
  "orig_nbformat": 4
 },
 "nbformat": 4,
 "nbformat_minor": 2
}
