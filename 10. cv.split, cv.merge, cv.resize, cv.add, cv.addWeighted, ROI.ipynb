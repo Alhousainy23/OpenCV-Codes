{
 "cells": [
  {
   "cell_type": "markdown",
   "metadata": {},
   "source": [
    "1. `ROI` --> Region Of Interest"
   ]
  },
  {
   "cell_type": "code",
   "execution_count": 2,
   "metadata": {},
   "outputs": [],
   "source": [
    "import numpy as np \n",
    "import cv2 as cv\n",
    "import os   "
   ]
  },
  {
   "cell_type": "code",
   "execution_count": 3,
   "metadata": {},
   "outputs": [
    {
     "name": "stdout",
     "output_type": "stream",
     "text": [
      "The Image 1 Shape Is -->  (512, 512, 3)\n",
      "The Image 1 Size Is -->  786432\n",
      "The Image 1 Dtypes Is -->  uint8\n",
      "The Image 2 Shape Is -->  (1080, 1920, 3)\n",
      "The Image 2 Size Is -->  6220800\n",
      "The Image 2 Dtypes Is -->  uint8\n"
     ]
    }
   ],
   "source": [
    "os.chdir(R\"D:\\\\AI\\\\AI Models\\\\3. OpenCV\\\\0- OpenCV\\\\Data\\\\Images\")\n",
    "img1= cv.imread('apple.jpg',1)\n",
    "img2 = cv.imread('17.jpg')\n",
    "print('The Image 1 Shape Is --> ',img1.shape)\n",
    "print('The Image 1 Size Is --> ',img1.size)\n",
    "print('The Image 1 Dtypes Is --> ',img1.dtype)\n",
    "print('The Image 2 Shape Is --> ',img2.shape)\n",
    "print('The Image 2 Size Is --> ',img2.size)\n",
    "print('The Image 2 Dtypes Is --> ',img2.dtype)"
   ]
  },
  {
   "cell_type": "markdown",
   "metadata": {},
   "source": [
    "* The `addWeighted` function in OpenCV is used to blend two images by linearly combining them.\n",
    "*  It calculates the `weighted sum of two arrays`, where each array is multiplied by a `scalar and added to the other array`."
   ]
  },
  {
   "cell_type": "markdown",
   "metadata": {},
   "source": [
    "* **The equation for addWeighted is:**\n",
    "* **`dst = src1 * alpha + src2 * beta + gamma`**"
   ]
  },
  {
   "cell_type": "markdown",
   "metadata": {},
   "source": [
    "* `src1` and `src2` are the input images or arrays\n",
    "* `alpha` is the weight of the first image\n",
    "* `beta` is the weight of the second image\n",
    "* `gamma` is a scalar added to each sum"
   ]
  },
  {
   "cell_type": "code",
   "execution_count": 5,
   "metadata": {},
   "outputs": [
    {
     "name": "stdout",
     "output_type": "stream",
     "text": [
      "The Image 1 Shape Is -->  (512, 512, 3)\n",
      "The Image 1 Size Is -->  786432\n",
      "The Image 1 Dtypes Is -->  uint8\n",
      "The Image 2 Shape Is -->  (1080, 1920, 3)\n",
      "The Image 2 Size Is -->  6220800\n",
      "The Image 2 Dtypes Is -->  uint8\n"
     ]
    }
   ],
   "source": [
    "img1= cv.imread('D:\\\\AI\\\\AI Models\\\\3. OpenCV\\\\0- OpenCV\\\\Data\\\\Images\\\\apple.jpg',1)\n",
    "img2 = cv.imread('D:\\\\AI\\\\AI Models\\\\3. OpenCV\\\\0- OpenCV\\\\Data\\\\Images\\\\17.jpg')\n",
    "print('The Image 1 Shape Is --> ',img1.shape)\n",
    "print('The Image 1 Size Is --> ',img1.size)\n",
    "print('The Image 1 Dtypes Is --> ',img1.dtype)\n",
    "print('The Image 2 Shape Is --> ',img2.shape)\n",
    "print('The Image 2 Size Is --> ',img2.size)\n",
    "print('The Image 2 Dtypes Is --> ',img2.dtype)\n",
    "#ball = img2[280:340 , 330 :390] # Y2 : Y1 , X2 : X1\n",
    "#img2[273 :333 , 100:160 ] = ball\n",
    "#ball = img2[1300:1900 , 1000:1200]\n",
    "#img2 [1400:2000 , 1100:1300]\n",
    "img1 = cv.resize(img1,(300,300))\n",
    "img2 = cv.resize(img2,(300,300))\n",
    "dst = cv.add(img1,img2)\n",
    "dst1 = cv.addWeighted(img1,.4,img2,.6,0)\n",
    "dst2 = cv.addWeighted(img1,.4,img2,.6,100) #Change Value Gamma for 0 To 100\n",
    "cv.imshow('Image 1',img1)\n",
    "cv.imshow('Image 2',img2)\n",
    "cv.imshow('Merge ', dst)\n",
    "cv.imshow('Wighted_Image' ,dst1)\n",
    "cv.imshow('Wighted_Image_Gamma' ,dst2)\n",
    "cv.waitKey(0)\n",
    "cv.destroyAllWindows()"
   ]
  },
  {
   "cell_type": "code",
   "execution_count": null,
   "metadata": {},
   "outputs": [],
   "source": []
  }
 ],
 "metadata": {
  "kernelspec": {
   "display_name": "Python 3",
   "language": "python",
   "name": "python3"
  },
  "language_info": {
   "codemirror_mode": {
    "name": "ipython",
    "version": 3
   },
   "file_extension": ".py",
   "mimetype": "text/x-python",
   "name": "python",
   "nbconvert_exporter": "python",
   "pygments_lexer": "ipython3",
   "version": "3.10.0"
  },
  "orig_nbformat": 4
 },
 "nbformat": 4,
 "nbformat_minor": 2
}
